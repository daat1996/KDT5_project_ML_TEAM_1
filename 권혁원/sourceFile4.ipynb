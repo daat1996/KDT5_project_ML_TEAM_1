{
 "cells": [
  {
   "cell_type": "code",
   "execution_count": 1,
   "id": "initial_id",
   "metadata": {
    "collapsed": true,
    "ExecuteTime": {
     "end_time": "2024-03-10T11:19:22.468317200Z",
     "start_time": "2024-03-10T11:19:20.661646600Z"
    }
   },
   "outputs": [],
   "source": [
    "import pandas as pd\n",
    "import numpy as np\n",
    "import matplotlib.pyplot as plt\n",
    "from sklearn.model_selection import train_test_split\n",
    "from sklearn.preprocessing import StandardScaler, MinMaxScaler, RobustScaler"
   ]
  },
  {
   "cell_type": "code",
   "outputs": [
    {
     "name": "stdout",
     "output_type": "stream",
     "text": [
      "<class 'pandas.core.frame.DataFrame'>\n",
      "RangeIndex: 918 entries, 0 to 917\n",
      "Data columns (total 12 columns):\n",
      " #   Column          Non-Null Count  Dtype  \n",
      "---  ------          --------------  -----  \n",
      " 0   Age             918 non-null    int64  \n",
      " 1   Sex             918 non-null    object \n",
      " 2   ChestPainType   918 non-null    object \n",
      " 3   RestingBP       918 non-null    int64  \n",
      " 4   Cholesterol     918 non-null    int64  \n",
      " 5   FastingBS       918 non-null    int64  \n",
      " 6   RestingECG      918 non-null    object \n",
      " 7   MaxHR           918 non-null    int64  \n",
      " 8   ExerciseAngina  918 non-null    object \n",
      " 9   Oldpeak         918 non-null    float64\n",
      " 10  ST_Slope        918 non-null    object \n",
      " 11  HeartDisease    918 non-null    int64  \n",
      "dtypes: float64(1), int64(6), object(5)\n",
      "memory usage: 86.2+ KB\n"
     ]
    }
   ],
   "source": [
    "DF = pd.read_csv('../data/heart.csv')\n",
    "DF.info()"
   ],
   "metadata": {
    "collapsed": false,
    "ExecuteTime": {
     "end_time": "2024-03-10T12:53:38.818321100Z",
     "start_time": "2024-03-10T12:53:38.780446400Z"
    }
   },
   "id": "ef3227550c90f482",
   "execution_count": 5
  },
  {
   "cell_type": "code",
   "outputs": [
    {
     "data": {
      "text/plain": "              Age   RestingBP  Cholesterol   FastingBS       MaxHR  \\\ncount  410.000000  410.000000   410.000000  410.000000  410.000000   \nmean    50.551220  130.180488   227.121951    0.107317  148.151220   \nstd      9.444915   16.499585    74.634659    0.309894   23.288067   \nmin     28.000000   80.000000     0.000000    0.000000   69.000000   \n25%     43.000000  120.000000   197.250000    0.000000  134.000000   \n50%     51.000000  130.000000   227.000000    0.000000  150.000000   \n75%     57.000000  140.000000   266.750000    0.000000  165.000000   \nmax     76.000000  190.000000   564.000000    1.000000  202.000000   \n\n          Oldpeak  HeartDisease  \ncount  410.000000         410.0  \nmean     0.408049           0.0  \nstd      0.699709           0.0  \nmin     -1.100000           0.0  \n25%      0.000000           0.0  \n50%      0.000000           0.0  \n75%      0.600000           0.0  \nmax      4.200000           0.0  ",
      "text/html": "<div>\n<style scoped>\n    .dataframe tbody tr th:only-of-type {\n        vertical-align: middle;\n    }\n\n    .dataframe tbody tr th {\n        vertical-align: top;\n    }\n\n    .dataframe thead th {\n        text-align: right;\n    }\n</style>\n<table border=\"1\" class=\"dataframe\">\n  <thead>\n    <tr style=\"text-align: right;\">\n      <th></th>\n      <th>Age</th>\n      <th>RestingBP</th>\n      <th>Cholesterol</th>\n      <th>FastingBS</th>\n      <th>MaxHR</th>\n      <th>Oldpeak</th>\n      <th>HeartDisease</th>\n    </tr>\n  </thead>\n  <tbody>\n    <tr>\n      <th>count</th>\n      <td>410.000000</td>\n      <td>410.000000</td>\n      <td>410.000000</td>\n      <td>410.000000</td>\n      <td>410.000000</td>\n      <td>410.000000</td>\n      <td>410.0</td>\n    </tr>\n    <tr>\n      <th>mean</th>\n      <td>50.551220</td>\n      <td>130.180488</td>\n      <td>227.121951</td>\n      <td>0.107317</td>\n      <td>148.151220</td>\n      <td>0.408049</td>\n      <td>0.0</td>\n    </tr>\n    <tr>\n      <th>std</th>\n      <td>9.444915</td>\n      <td>16.499585</td>\n      <td>74.634659</td>\n      <td>0.309894</td>\n      <td>23.288067</td>\n      <td>0.699709</td>\n      <td>0.0</td>\n    </tr>\n    <tr>\n      <th>min</th>\n      <td>28.000000</td>\n      <td>80.000000</td>\n      <td>0.000000</td>\n      <td>0.000000</td>\n      <td>69.000000</td>\n      <td>-1.100000</td>\n      <td>0.0</td>\n    </tr>\n    <tr>\n      <th>25%</th>\n      <td>43.000000</td>\n      <td>120.000000</td>\n      <td>197.250000</td>\n      <td>0.000000</td>\n      <td>134.000000</td>\n      <td>0.000000</td>\n      <td>0.0</td>\n    </tr>\n    <tr>\n      <th>50%</th>\n      <td>51.000000</td>\n      <td>130.000000</td>\n      <td>227.000000</td>\n      <td>0.000000</td>\n      <td>150.000000</td>\n      <td>0.000000</td>\n      <td>0.0</td>\n    </tr>\n    <tr>\n      <th>75%</th>\n      <td>57.000000</td>\n      <td>140.000000</td>\n      <td>266.750000</td>\n      <td>0.000000</td>\n      <td>165.000000</td>\n      <td>0.600000</td>\n      <td>0.0</td>\n    </tr>\n    <tr>\n      <th>max</th>\n      <td>76.000000</td>\n      <td>190.000000</td>\n      <td>564.000000</td>\n      <td>1.000000</td>\n      <td>202.000000</td>\n      <td>4.200000</td>\n      <td>0.0</td>\n    </tr>\n  </tbody>\n</table>\n</div>"
     },
     "execution_count": 6,
     "metadata": {},
     "output_type": "execute_result"
    }
   ],
   "source": [
    "DF[DF['HeartDisease'] == 0].describe()"
   ],
   "metadata": {
    "collapsed": false,
    "ExecuteTime": {
     "end_time": "2024-03-10T12:53:56.230431900Z",
     "start_time": "2024-03-10T12:53:56.199322600Z"
    }
   },
   "id": "449504a33c324a21",
   "execution_count": 6
  },
  {
   "cell_type": "code",
   "outputs": [
    {
     "data": {
      "text/plain": "              Age   RestingBP  Cholesterol   FastingBS       MaxHR  \\\ncount  508.000000  508.000000   508.000000  508.000000  508.000000   \nmean    55.899606  134.185039   175.940945    0.334646  127.655512   \nstd      8.727056   19.828685   126.391398    0.472332   23.386923   \nmin     31.000000    0.000000     0.000000    0.000000   60.000000   \n25%     51.000000  120.000000     0.000000    0.000000  112.000000   \n50%     57.000000  132.000000   217.000000    0.000000  126.000000   \n75%     62.000000  145.000000   267.000000    1.000000  144.250000   \nmax     77.000000  200.000000   603.000000    1.000000  195.000000   \n\n          Oldpeak  HeartDisease  \ncount  508.000000         508.0  \nmean     1.274213           1.0  \nstd      1.151872           0.0  \nmin     -2.600000           1.0  \n25%      0.000000           1.0  \n50%      1.200000           1.0  \n75%      2.000000           1.0  \nmax      6.200000           1.0  ",
      "text/html": "<div>\n<style scoped>\n    .dataframe tbody tr th:only-of-type {\n        vertical-align: middle;\n    }\n\n    .dataframe tbody tr th {\n        vertical-align: top;\n    }\n\n    .dataframe thead th {\n        text-align: right;\n    }\n</style>\n<table border=\"1\" class=\"dataframe\">\n  <thead>\n    <tr style=\"text-align: right;\">\n      <th></th>\n      <th>Age</th>\n      <th>RestingBP</th>\n      <th>Cholesterol</th>\n      <th>FastingBS</th>\n      <th>MaxHR</th>\n      <th>Oldpeak</th>\n      <th>HeartDisease</th>\n    </tr>\n  </thead>\n  <tbody>\n    <tr>\n      <th>count</th>\n      <td>508.000000</td>\n      <td>508.000000</td>\n      <td>508.000000</td>\n      <td>508.000000</td>\n      <td>508.000000</td>\n      <td>508.000000</td>\n      <td>508.0</td>\n    </tr>\n    <tr>\n      <th>mean</th>\n      <td>55.899606</td>\n      <td>134.185039</td>\n      <td>175.940945</td>\n      <td>0.334646</td>\n      <td>127.655512</td>\n      <td>1.274213</td>\n      <td>1.0</td>\n    </tr>\n    <tr>\n      <th>std</th>\n      <td>8.727056</td>\n      <td>19.828685</td>\n      <td>126.391398</td>\n      <td>0.472332</td>\n      <td>23.386923</td>\n      <td>1.151872</td>\n      <td>0.0</td>\n    </tr>\n    <tr>\n      <th>min</th>\n      <td>31.000000</td>\n      <td>0.000000</td>\n      <td>0.000000</td>\n      <td>0.000000</td>\n      <td>60.000000</td>\n      <td>-2.600000</td>\n      <td>1.0</td>\n    </tr>\n    <tr>\n      <th>25%</th>\n      <td>51.000000</td>\n      <td>120.000000</td>\n      <td>0.000000</td>\n      <td>0.000000</td>\n      <td>112.000000</td>\n      <td>0.000000</td>\n      <td>1.0</td>\n    </tr>\n    <tr>\n      <th>50%</th>\n      <td>57.000000</td>\n      <td>132.000000</td>\n      <td>217.000000</td>\n      <td>0.000000</td>\n      <td>126.000000</td>\n      <td>1.200000</td>\n      <td>1.0</td>\n    </tr>\n    <tr>\n      <th>75%</th>\n      <td>62.000000</td>\n      <td>145.000000</td>\n      <td>267.000000</td>\n      <td>1.000000</td>\n      <td>144.250000</td>\n      <td>2.000000</td>\n      <td>1.0</td>\n    </tr>\n    <tr>\n      <th>max</th>\n      <td>77.000000</td>\n      <td>200.000000</td>\n      <td>603.000000</td>\n      <td>1.000000</td>\n      <td>195.000000</td>\n      <td>6.200000</td>\n      <td>1.0</td>\n    </tr>\n  </tbody>\n</table>\n</div>"
     },
     "execution_count": 7,
     "metadata": {},
     "output_type": "execute_result"
    }
   ],
   "source": [
    "DF[DF['HeartDisease'] == 1].describe()"
   ],
   "metadata": {
    "collapsed": false,
    "ExecuteTime": {
     "end_time": "2024-03-10T12:54:03.697735500Z",
     "start_time": "2024-03-10T12:54:03.666321400Z"
    }
   },
   "id": "5a67de6a4728b497",
   "execution_count": 7
  },
  {
   "cell_type": "code",
   "outputs": [
    {
     "data": {
      "text/plain": "<Figure size 640x480 with 1 Axes>",
      "image/png": "[encoded data removed]"
     },
     "metadata": {},
     "output_type": "display_data"
    }
   ],
   "source": [
    "plt.boxplot([DF[DF['HeartDisease'] == 0]['RestingBP'], DF[DF['HeartDisease'] == 1]['RestingBP']])\n",
    "plt.show()"
   ],
   "metadata": {
    "collapsed": false,
    "ExecuteTime": {
     "end_time": "2024-03-10T12:56:43.317229100Z",
     "start_time": "2024-03-10T12:56:43.224503100Z"
    }
   },
   "id": "d6311a77a95c94f6",
   "execution_count": 11
  },
  {
   "cell_type": "code",
   "outputs": [
    {
     "data": {
      "text/plain": "<Figure size 640x480 with 1 Axes>",
      "image/png": "[encoded data removed]"
     },
     "metadata": {},
     "output_type": "display_data"
    }
   ],
   "source": [
    "plt.boxplot([DF[DF['HeartDisease'] == 0]['MaxHR'], DF[DF['HeartDisease'] == 1]['MaxHR']])\n",
    "plt.show()"
   ],
   "metadata": {
    "collapsed": false,
    "ExecuteTime": {
     "end_time": "2024-03-10T12:57:13.083703600Z",
     "start_time": "2024-03-10T12:57:12.993176100Z"
    }
   },
   "id": "e6fc8168342e0b8",
   "execution_count": 13
  },
  {
   "cell_type": "code",
   "outputs": [],
   "source": [],
   "metadata": {
    "collapsed": false
   },
   "id": "f149c9e30bf4cf17"
  }
 ],
 "metadata": {
  "kernelspec": {
   "display_name": "Python 3",
   "language": "python",
   "name": "python3"
  },
  "language_info": {
   "codemirror_mode": {
    "name": "ipython",
    "version": 2
   },
   "file_extension": ".py",
   "mimetype": "text/x-python",
   "name": "python",
   "nbconvert_exporter": "python",
   "pygments_lexer": "ipython2",
   "version": "2.7.6"
  }
 },
 "nbformat": 4,
 "nbformat_minor": 5
}
