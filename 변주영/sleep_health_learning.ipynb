{
 "cells": [
  {
   "cell_type": "markdown",
   "source": [
    "### 잠과 다른 요인들과의 상관관계 학습, 예측\n",
    "1. 모듈 임포트, 데이터 준비\n",
    "    - 데이터 출처\n",
    "        - https://www.kaggle.com/datasets/uom190346a/sleep-health-and-lifestyle-dataset?select=Sleep_health_and_lifestyle_dataset.csv\n",
    "2. 데이터 전처리\n",
    "3. 학습 진행\n",
    "    - 회귀 : 수면시간, 수면의 질, 스트레스 레벨\n",
    "    - 분류 : 직업, 수면장애 여부, BMI\n",
    "4. 성능 테스트\n",
    "5. 예측"
   ],
   "metadata": {
    "collapsed": false
   },
   "id": "9ab48245431bd99"
  },
  {
   "cell_type": "markdown",
   "source": [
    "Dataset Columns:\n",
    "\\- Person ID: An identifier for each individual.\n",
    "\\- Gender: The gender of the person (Male/Female).\n",
    "\\- Age: The age of the person in years.\n",
    "\\- Occupation: The occupation or profession of the person.\n",
    "\\- Sleep Duration (hours): The number of hours the person sleeps per day.\n",
    "\\- Quality of Sleep (scale: 1-10): A subjective rating of the quality of sleep, ranging from 1 to 10.\n",
    "\\- Physical Activity Level (minutes/day): The number of minutes the person engages in physical activity daily.\n",
    "\\- Stress Level (scale: 1-10): A subjective rating of the stress level experienced by the person, ranging from 1 to 10.\n",
    "\\- BMI Category: The BMI category of the person (e.g., Underweight, Normal, Overweight).\n",
    "\\- Blood Pressure (systolic/diastolic): The blood pressure measurement of the person, indicated as systolic pressure over diastolic pressure.\n",
    "\\- Heart Rate (bpm): The resting heart rate of the person in beats per minute.\n",
    "\\- Daily Steps: The number of steps the person takes per day.\n",
    "\\- Sleep Disorder: The presence or absence of a sleep disorder in the person (None, Insomnia, Sleep Apnea)."
   ],
   "metadata": {
    "collapsed": false
   },
   "id": "615c5f1f04162d92"
  },
  {
   "cell_type": "markdown",
   "source": [
    "(1) 모듈 임표트, 데이터 준비 <hr>"
   ],
   "metadata": {
    "collapsed": false
   },
   "id": "f1fd7ba01484efd"
  },
  {
   "cell_type": "code",
   "outputs": [],
   "source": [
    "import pandas as pd\n",
    "import numpy as np"
   ],
   "metadata": {
    "collapsed": false,
    "ExecuteTime": {
     "end_time": "2024-03-11T07:50:54.010116200Z",
     "start_time": "2024-03-11T07:50:53.275738100Z"
    }
   },
   "id": "1381a67a4305edf4",
   "execution_count": 1
  },
  {
   "cell_type": "code",
   "outputs": [
    {
     "data": {
      "text/plain": "   Person ID Gender  Age         Occupation  Sleep Duration  Quality of Sleep  \\\n0          1   Male   27  Software Engineer             6.1                 6   \n1          2   Male   28             Doctor             6.2                 6   \n2          3   Male   28             Doctor             6.2                 6   \n\n   Physical Activity Level  Stress Level BMI Category Blood Pressure  \\\n0                       42             6   Overweight         126/83   \n1                       60             8       Normal         125/80   \n2                       60             8       Normal         125/80   \n\n   Heart Rate  Daily Steps Sleep Disorder  \n0          77         4200            NaN  \n1          75        10000            NaN  \n2          75        10000            NaN  ",
      "text/html": "<div>\n<style scoped>\n    .dataframe tbody tr th:only-of-type {\n        vertical-align: middle;\n    }\n\n    .dataframe tbody tr th {\n        vertical-align: top;\n    }\n\n    .dataframe thead th {\n        text-align: right;\n    }\n</style>\n<table border=\"1\" class=\"dataframe\">\n  <thead>\n    <tr style=\"text-align: right;\">\n      <th></th>\n      <th>Person ID</th>\n      <th>Gender</th>\n      <th>Age</th>\n      <th>Occupation</th>\n      <th>Sleep Duration</th>\n      <th>Quality of Sleep</th>\n      <th>Physical Activity Level</th>\n      <th>Stress Level</th>\n      <th>BMI Category</th>\n      <th>Blood Pressure</th>\n      <th>Heart Rate</th>\n      <th>Daily Steps</th>\n      <th>Sleep Disorder</th>\n    </tr>\n  </thead>\n  <tbody>\n    <tr>\n      <th>0</th>\n      <td>1</td>\n      <td>Male</td>\n      <td>27</td>\n      <td>Software Engineer</td>\n      <td>6.1</td>\n      <td>6</td>\n      <td>42</td>\n      <td>6</td>\n      <td>Overweight</td>\n      <td>126/83</td>\n      <td>77</td>\n      <td>4200</td>\n      <td>NaN</td>\n    </tr>\n    <tr>\n      <th>1</th>\n      <td>2</td>\n      <td>Male</td>\n      <td>28</td>\n      <td>Doctor</td>\n      <td>6.2</td>\n      <td>6</td>\n      <td>60</td>\n      <td>8</td>\n      <td>Normal</td>\n      <td>125/80</td>\n      <td>75</td>\n      <td>10000</td>\n      <td>NaN</td>\n    </tr>\n    <tr>\n      <th>2</th>\n      <td>3</td>\n      <td>Male</td>\n      <td>28</td>\n      <td>Doctor</td>\n      <td>6.2</td>\n      <td>6</td>\n      <td>60</td>\n      <td>8</td>\n      <td>Normal</td>\n      <td>125/80</td>\n      <td>75</td>\n      <td>10000</td>\n      <td>NaN</td>\n    </tr>\n  </tbody>\n</table>\n</div>"
     },
     "execution_count": 2,
     "metadata": {},
     "output_type": "execute_result"
    }
   ],
   "source": [
    "filename = 'Sleep_health_and_lifestyle_dataset.csv'\n",
    "\n",
    "sleep_healthDF = pd.read_csv(filename)\n",
    "sleep_healthDF.head(3)"
   ],
   "metadata": {
    "collapsed": false,
    "ExecuteTime": {
     "end_time": "2024-03-10T11:45:16.368839100Z",
     "start_time": "2024-03-10T11:45:16.314434300Z"
    }
   },
   "id": "bbafb0e555e1c81",
   "execution_count": 2
  },
  {
   "cell_type": "markdown",
   "source": [],
   "metadata": {
    "collapsed": false
   },
   "id": "8ef21463ea82d1f5"
  },
  {
   "cell_type": "markdown",
   "source": [
    "(2) 데이터 전처리 <hr>"
   ],
   "metadata": {
    "collapsed": false
   },
   "id": "58c146092ee832be"
  },
  {
   "cell_type": "code",
   "outputs": [
    {
     "name": "stdout",
     "output_type": "stream",
     "text": [
      "<class 'pandas.core.frame.DataFrame'>\n",
      "RangeIndex: 374 entries, 0 to 373\n",
      "Data columns (total 13 columns):\n",
      " #   Column                   Non-Null Count  Dtype  \n",
      "---  ------                   --------------  -----  \n",
      " 0   Person ID                374 non-null    int64  \n",
      " 1   Gender                   374 non-null    object \n",
      " 2   Age                      374 non-null    int64  \n",
      " 3   Occupation               374 non-null    object \n",
      " 4   Sleep Duration           374 non-null    float64\n",
      " 5   Quality of Sleep         374 non-null    int64  \n",
      " 6   Physical Activity Level  374 non-null    int64  \n",
      " 7   Stress Level             374 non-null    int64  \n",
      " 8   BMI Category             374 non-null    object \n",
      " 9   Blood Pressure           374 non-null    object \n",
      " 10  Heart Rate               374 non-null    int64  \n",
      " 11  Daily Steps              374 non-null    int64  \n",
      " 12  Sleep Disorder           155 non-null    object \n",
      "dtypes: float64(1), int64(7), object(5)\n",
      "memory usage: 38.1+ KB\n"
     ]
    }
   ],
   "source": [
    "# 전체 데이터셋 요약정보 확인\n",
    "sleep_healthDF.info()"
   ],
   "metadata": {
    "collapsed": false,
    "ExecuteTime": {
     "end_time": "2024-03-10T11:45:16.387759900Z",
     "start_time": "2024-03-10T11:45:16.342729300Z"
    }
   },
   "id": "76b8d85eb6c657e7",
   "execution_count": 3
  },
  {
   "cell_type": "markdown",
   "source": [
    "'Gender', 'Occupation', 'BMI Category', 'Blood Pressure', 'Sleep Disorder' 컬럼이 object 타입\n",
    "'Sleep Disorder' 컬럼에만 NaN 값이 존재"
   ],
   "metadata": {
    "collapsed": false
   },
   "id": "2b8faa3003a69b3d"
  },
  {
   "cell_type": "code",
   "outputs": [
    {
     "data": {
      "text/plain": "0"
     },
     "execution_count": 4,
     "metadata": {},
     "output_type": "execute_result"
    }
   ],
   "source": [
    "# 중복값 확인 => 없음\n",
    "sleep_healthDF.duplicated().sum()"
   ],
   "metadata": {
    "collapsed": false,
    "ExecuteTime": {
     "end_time": "2024-03-10T11:45:16.474479700Z",
     "start_time": "2024-03-10T11:45:16.357802600Z"
    }
   },
   "id": "f2eb0a1c96816088",
   "execution_count": 4
  },
  {
   "cell_type": "code",
   "outputs": [
    {
     "data": {
      "text/plain": "Person ID                  374\nGender                       2\nAge                         31\nOccupation                  11\nSleep Duration              27\nQuality of Sleep             6\nPhysical Activity Level     16\nStress Level                 6\nBMI Category                 4\nBlood Pressure              25\nHeart Rate                  19\nDaily Steps                 20\nSleep Disorder               2\ndtype: int64"
     },
     "execution_count": 5,
     "metadata": {},
     "output_type": "execute_result"
    }
   ],
   "source": [
    "# 고유값 종류 확인\n",
    "sleep_healthDF.nunique()"
   ],
   "metadata": {
    "collapsed": false,
    "ExecuteTime": {
     "end_time": "2024-03-10T11:45:16.476725500Z",
     "start_time": "2024-03-10T11:45:16.375921400Z"
    }
   },
   "id": "1bc87986c8dfe720",
   "execution_count": 5
  },
  {
   "cell_type": "code",
   "outputs": [
    {
     "data": {
      "text/plain": "Person ID                    0\nGender                       0\nAge                          0\nOccupation                   0\nSleep Duration               0\nQuality of Sleep             0\nPhysical Activity Level      0\nStress Level                 0\nBMI Category                 0\nBlood Pressure               0\nHeart Rate                   0\nDaily Steps                  0\nSleep Disorder             219\ndtype: int64"
     },
     "execution_count": 6,
     "metadata": {},
     "output_type": "execute_result"
    }
   ],
   "source": [
    "# 결측치 확인\n",
    "sleep_healthDF.isna().sum()"
   ],
   "metadata": {
    "collapsed": false,
    "ExecuteTime": {
     "end_time": "2024-03-10T11:45:16.505349300Z",
     "start_time": "2024-03-10T11:45:16.391357100Z"
    }
   },
   "id": "751a8e20cdaf97b2",
   "execution_count": 6
  },
  {
   "cell_type": "code",
   "outputs": [
    {
     "data": {
      "text/plain": "array([nan, 'Sleep Apnea', 'Insomnia'], dtype=object)"
     },
     "execution_count": 7,
     "metadata": {},
     "output_type": "execute_result"
    }
   ],
   "source": [
    "# NaN, 'Sleep Apnea', 'Insomnia' 로 구성됨\n",
    "sleep_healthDF['Sleep Disorder'].unique()"
   ],
   "metadata": {
    "collapsed": false,
    "ExecuteTime": {
     "end_time": "2024-03-10T11:45:16.550730Z",
     "start_time": "2024-03-10T11:45:16.405111600Z"
    }
   },
   "id": "28ab54f2413c619c",
   "execution_count": 7
  },
  {
   "cell_type": "code",
   "outputs": [
    {
     "data": {
      "text/plain": "array(['Normal', 'Sleep Apnea', 'Insomnia'], dtype=object)"
     },
     "execution_count": 8,
     "metadata": {},
     "output_type": "execute_result"
    }
   ],
   "source": [
    "# 'Sleep Disorder' 컬럼에서 NaN은 정상(Normal)이라고 보면 되므로, 'Normal'으로 대체\n",
    "sleep_healthDF['Sleep Disorder'] = sleep_healthDF['Sleep Disorder'].replace(np.nan, 'Normal')\n",
    "sleep_healthDF['Sleep Disorder'].unique()"
   ],
   "metadata": {
    "collapsed": false,
    "ExecuteTime": {
     "end_time": "2024-03-10T11:45:16.553954Z",
     "start_time": "2024-03-10T11:45:16.423722300Z"
    }
   },
   "id": "957fbab3f9f44f86",
   "execution_count": 8
  },
  {
   "cell_type": "code",
   "outputs": [
    {
     "data": {
      "text/plain": "array(['Software Engineer', 'Doctor', 'Sales Representative', 'Teacher',\n       'Nurse', 'Engineer', 'Accountant', 'Scientist', 'Lawyer',\n       'Salesperson', 'Manager'], dtype=object)"
     },
     "execution_count": 9,
     "metadata": {},
     "output_type": "execute_result"
    }
   ],
   "source": [
    "# 'Occupation' 은 총 11가지 직업으로 구성됨\n",
    "# 'Software Engineer' 존재!\n",
    "sleep_healthDF['Occupation'].unique()"
   ],
   "metadata": {
    "collapsed": false,
    "ExecuteTime": {
     "end_time": "2024-03-10T11:45:16.610664800Z",
     "start_time": "2024-03-10T11:45:16.436031300Z"
    }
   },
   "id": "2f93271f0aa2b084",
   "execution_count": 9
  },
  {
   "cell_type": "code",
   "outputs": [
    {
     "data": {
      "text/plain": "BMI Category\nNormal           195\nOverweight       148\nNormal Weight     21\nObese             10\nName: count, dtype: int64"
     },
     "execution_count": 126,
     "metadata": {},
     "output_type": "execute_result"
    }
   ],
   "source": [
    "sleep_healthDF['BMI Category'].value_counts()"
   ],
   "metadata": {
    "collapsed": false,
    "ExecuteTime": {
     "end_time": "2024-03-10T13:18:23.467853300Z",
     "start_time": "2024-03-10T13:18:23.387780500Z"
    }
   },
   "id": "ef9971875c49968a",
   "execution_count": 126
  },
  {
   "cell_type": "code",
   "outputs": [
    {
     "data": {
      "text/plain": "array(['126/83', '125/80', '140/90', '120/80', '132/87', '130/86',\n       '117/76', '118/76', '128/85', '131/86', '128/84', '115/75',\n       '135/88', '129/84', '130/85', '115/78', '119/77', '121/79',\n       '125/82', '135/90', '122/80', '142/92', '140/95', '139/91',\n       '118/75'], dtype=object)"
     },
     "execution_count": 11,
     "metadata": {},
     "output_type": "execute_result"
    }
   ],
   "source": [
    "sleep_healthDF['Blood Pressure'].unique()   # (수축기 혈압) / (이완기 혈압) 으로 구성되어 있음"
   ],
   "metadata": {
    "collapsed": false,
    "ExecuteTime": {
     "end_time": "2024-03-10T11:45:16.642164Z",
     "start_time": "2024-03-10T11:45:16.467883400Z"
    }
   },
   "id": "85ee205b79dacf7",
   "execution_count": 11
  },
  {
   "cell_type": "code",
   "outputs": [
    {
     "data": {
      "text/plain": "   Maximal BP  Minimal BP\n0         126          83\n1         125          80\n2         125          80\n3         140          90\n4         140          90\n5         140          90\n6         140          90\n7         120          80\n8         120          80\n9         120          80",
      "text/html": "<div>\n<style scoped>\n    .dataframe tbody tr th:only-of-type {\n        vertical-align: middle;\n    }\n\n    .dataframe tbody tr th {\n        vertical-align: top;\n    }\n\n    .dataframe thead th {\n        text-align: right;\n    }\n</style>\n<table border=\"1\" class=\"dataframe\">\n  <thead>\n    <tr style=\"text-align: right;\">\n      <th></th>\n      <th>Maximal BP</th>\n      <th>Minimal BP</th>\n    </tr>\n  </thead>\n  <tbody>\n    <tr>\n      <th>0</th>\n      <td>126</td>\n      <td>83</td>\n    </tr>\n    <tr>\n      <th>1</th>\n      <td>125</td>\n      <td>80</td>\n    </tr>\n    <tr>\n      <th>2</th>\n      <td>125</td>\n      <td>80</td>\n    </tr>\n    <tr>\n      <th>3</th>\n      <td>140</td>\n      <td>90</td>\n    </tr>\n    <tr>\n      <th>4</th>\n      <td>140</td>\n      <td>90</td>\n    </tr>\n    <tr>\n      <th>5</th>\n      <td>140</td>\n      <td>90</td>\n    </tr>\n    <tr>\n      <th>6</th>\n      <td>140</td>\n      <td>90</td>\n    </tr>\n    <tr>\n      <th>7</th>\n      <td>120</td>\n      <td>80</td>\n    </tr>\n    <tr>\n      <th>8</th>\n      <td>120</td>\n      <td>80</td>\n    </tr>\n    <tr>\n      <th>9</th>\n      <td>120</td>\n      <td>80</td>\n    </tr>\n  </tbody>\n</table>\n</div>"
     },
     "execution_count": 128,
     "metadata": {},
     "output_type": "execute_result"
    }
   ],
   "source": [
    "## (수축기 혈압)은 'Maximal BP' 컬럼에, (이완기 혈압)은 'Minimal BP' 컬럼에 나눠서 저장\n",
    "\n",
    "# '/'를 기준으로 값을 분리하여 새로운 DataFrame 생성\n",
    "bpDF = sleep_healthDF['Blood Pressure'].str.split('/', expand=True)\n",
    "\n",
    "# 분리된 값들을 기존 DataFrame에 새로운 열으로 저장\n",
    "sleep_healthDF['Maximal BP'] = bpDF[0].astype('int')\n",
    "sleep_healthDF['Minimal BP'] = bpDF[1].astype('int')\n",
    "\n",
    "# 잘 들어갔는지 확인\n",
    "sleep_healthDF[['Maximal BP', 'Minimal BP']].head(10)"
   ],
   "metadata": {
    "collapsed": false,
    "ExecuteTime": {
     "end_time": "2024-03-10T17:08:19.327309700Z",
     "start_time": "2024-03-10T17:08:19.245026100Z"
    }
   },
   "id": "98bba53443b338c4",
   "execution_count": 128
  },
  {
   "cell_type": "code",
   "outputs": [
    {
     "name": "stdout",
     "output_type": "stream",
     "text": [
      "<class 'pandas.core.frame.DataFrame'>\n",
      "RangeIndex: 374 entries, 0 to 373\n",
      "Data columns (total 15 columns):\n",
      " #   Column                   Non-Null Count  Dtype  \n",
      "---  ------                   --------------  -----  \n",
      " 0   Person ID                374 non-null    int64  \n",
      " 1   Gender                   374 non-null    object \n",
      " 2   Age                      374 non-null    int64  \n",
      " 3   Occupation               374 non-null    object \n",
      " 4   Sleep Duration           374 non-null    float64\n",
      " 5   Quality of Sleep         374 non-null    int64  \n",
      " 6   Physical Activity Level  374 non-null    int64  \n",
      " 7   Stress Level             374 non-null    int64  \n",
      " 8   BMI Category             374 non-null    object \n",
      " 9   Blood Pressure           374 non-null    object \n",
      " 10  Heart Rate               374 non-null    int64  \n",
      " 11  Daily Steps              374 non-null    int64  \n",
      " 12  Sleep Disorder           374 non-null    object \n",
      " 13  Maximal BP               374 non-null    int32  \n",
      " 14  Minimal BP               374 non-null    int32  \n",
      "dtypes: float64(1), int32(2), int64(7), object(5)\n",
      "memory usage: 41.0+ KB\n"
     ]
    }
   ],
   "source": [
    "sleep_healthDF.info()"
   ],
   "metadata": {
    "collapsed": false,
    "ExecuteTime": {
     "end_time": "2024-03-10T11:45:16.679047100Z",
     "start_time": "2024-03-10T11:45:16.502349300Z"
    }
   },
   "id": "7b34bacf3f1217f0",
   "execution_count": 13
  },
  {
   "cell_type": "code",
   "outputs": [
    {
     "data": {
      "text/plain": "                         Sleep Duration  Quality of Sleep\nPerson ID                      0.296305          0.431612\nAge                            0.344709          0.473734\nSleep Duration                 1.000000          0.883213\nQuality of Sleep               0.883213          1.000000\nPhysical Activity Level        0.212360          0.192896\nStress Level                  -0.811023         -0.898752\nHeart Rate                    -0.516455         -0.659865\nDaily Steps                   -0.039533          0.016791\nMaximal BP                    -0.180406         -0.121632\nMinimal BP                    -0.166570         -0.110151",
      "text/html": "<div>\n<style scoped>\n    .dataframe tbody tr th:only-of-type {\n        vertical-align: middle;\n    }\n\n    .dataframe tbody tr th {\n        vertical-align: top;\n    }\n\n    .dataframe thead th {\n        text-align: right;\n    }\n</style>\n<table border=\"1\" class=\"dataframe\">\n  <thead>\n    <tr style=\"text-align: right;\">\n      <th></th>\n      <th>Sleep Duration</th>\n      <th>Quality of Sleep</th>\n    </tr>\n  </thead>\n  <tbody>\n    <tr>\n      <th>Person ID</th>\n      <td>0.296305</td>\n      <td>0.431612</td>\n    </tr>\n    <tr>\n      <th>Age</th>\n      <td>0.344709</td>\n      <td>0.473734</td>\n    </tr>\n    <tr>\n      <th>Sleep Duration</th>\n      <td>1.000000</td>\n      <td>0.883213</td>\n    </tr>\n    <tr>\n      <th>Quality of Sleep</th>\n      <td>0.883213</td>\n      <td>1.000000</td>\n    </tr>\n    <tr>\n      <th>Physical Activity Level</th>\n      <td>0.212360</td>\n      <td>0.192896</td>\n    </tr>\n    <tr>\n      <th>Stress Level</th>\n      <td>-0.811023</td>\n      <td>-0.898752</td>\n    </tr>\n    <tr>\n      <th>Heart Rate</th>\n      <td>-0.516455</td>\n      <td>-0.659865</td>\n    </tr>\n    <tr>\n      <th>Daily Steps</th>\n      <td>-0.039533</td>\n      <td>0.016791</td>\n    </tr>\n    <tr>\n      <th>Maximal BP</th>\n      <td>-0.180406</td>\n      <td>-0.121632</td>\n    </tr>\n    <tr>\n      <th>Minimal BP</th>\n      <td>-0.166570</td>\n      <td>-0.110151</td>\n    </tr>\n  </tbody>\n</table>\n</div>"
     },
     "execution_count": 14,
     "metadata": {},
     "output_type": "execute_result"
    }
   ],
   "source": [
    "sleep_healthDF.corr(numeric_only=True)[['Sleep Duration', 'Quality of Sleep']]"
   ],
   "metadata": {
    "collapsed": false,
    "ExecuteTime": {
     "end_time": "2024-03-10T11:45:16.683202400Z",
     "start_time": "2024-03-10T11:45:16.518580200Z"
    }
   },
   "id": "66644e0e2b83f972",
   "execution_count": 14
  },
  {
   "cell_type": "code",
   "outputs": [],
   "source": [
    "# 데이터 시각화\n",
    "import matplotlib.pyplot as plt\n",
    "import koreanize_matplotlib\n",
    "\n",
    "def plot_2d_from_DF(DF, col_x, col_y, by=None):\n",
    "    values_to_check = {col_x, col_y}\n",
    "    if all(value in set(sleep_healthDF.columns) for value in values_to_check):\n",
    "        if by and (by in sleep_healthDF.columns):\n",
    "            for value in sleep_healthDF[by].unique():\n",
    "                subset = sleep_healthDF[sleep_healthDF[by] == value]\n",
    "                plt.scatter(subset[col_x], subset[col_y], label=subset[by].iloc[0])\n",
    "            plt.legend(title='Legend', bbox_to_anchor=(1, 1), loc='upper left')\n",
    "            plt.xlabel(col_x)\n",
    "            plt.ylabel(col_y)\n",
    "            # sleep_healthDF[[col_x, col_y, by]].plot(kind='scatter', x=col_x, y=col_y, \n",
    "            #                                         c=pd.factorize(sleep_healthDF[by])[0], cmap='viridis',\n",
    "            #                                         colorbar=False, legend=True)\n",
    "        else:\n",
    "            sleep_healthDF[[col_x, col_y]].plot(kind='scatter', x=col_x, y=col_y)\n",
    "        plt.title(f\"\\'{col_x}\\'와의 상관관계\")\n",
    "        plt.show()\n",
    "        print(f'unique values : {DF[[col_x, col_y]].drop_duplicates().shape[0]} 가지')\n",
    "    else:\n",
    "        print(f'{col_x} 또는 {col_y} 가 {DF}에 없음')\n"
   ],
   "metadata": {
    "collapsed": false,
    "ExecuteTime": {
     "end_time": "2024-03-10T17:33:02.001178700Z",
     "start_time": "2024-03-10T17:33:01.914491600Z"
    }
   },
   "id": "610f0fa69d2099e5",
   "execution_count": 131
  },
  {
   "cell_type": "code",
   "outputs": [
    {
     "data": {
      "text/plain": "Index(['Normal', 'Sleep Apnea', 'Insomnia'], dtype='object')"
     },
     "execution_count": 16,
     "metadata": {},
     "output_type": "execute_result"
    }
   ],
   "source": [
    "pd.factorize(sleep_healthDF['Sleep Disorder'])[1]"
   ],
   "metadata": {
    "collapsed": false,
    "ExecuteTime": {
     "end_time": "2024-03-10T11:45:17.234448800Z",
     "start_time": "2024-03-10T11:45:17.193956200Z"
    }
   },
   "id": "3e3d1fb7a904c9d0",
   "execution_count": 16
  },
  {
   "cell_type": "code",
   "outputs": [
    {
     "data": {
      "text/plain": "<Figure size 640x480 with 1 Axes>",
      "image/png": "[encoded data removed]"
     },
     "metadata": {},
     "output_type": "display_data"
    },
    {
     "name": "stdout",
     "output_type": "stream",
     "text": [
      "unique values : 103 가지\n"
     ]
    }
   ],
   "source": [
    "plot_2d_from_DF(sleep_healthDF, 'Age', 'Sleep Duration', 'Sleep Disorder')    # 나이와의 상관관계"
   ],
   "metadata": {
    "collapsed": false,
    "ExecuteTime": {
     "end_time": "2024-03-10T17:33:04.756248400Z",
     "start_time": "2024-03-10T17:33:04.542434700Z"
    }
   },
   "id": "45e6ebe7d1138fa8",
   "execution_count": 132
  },
  {
   "cell_type": "code",
   "outputs": [
    {
     "data": {
      "text/plain": "<Figure size 640x480 with 1 Axes>",
      "image/png": "[encoded data removed]"
     },
     "metadata": {},
     "output_type": "display_data"
    },
    {
     "name": "stdout",
     "output_type": "stream",
     "text": [
      "unique values : 56 가지\n"
     ]
    }
   ],
   "source": [
    "plot_2d_from_DF(sleep_healthDF, 'Physical Activity Level', 'Sleep Duration', 'Sleep Disorder')    # 신체활동과의 관계"
   ],
   "metadata": {
    "collapsed": false,
    "ExecuteTime": {
     "end_time": "2024-03-10T17:33:57.740423500Z",
     "start_time": "2024-03-10T17:33:57.571888300Z"
    }
   },
   "id": "ca6216266c93d3eb",
   "execution_count": 133
  },
  {
   "cell_type": "code",
   "outputs": [
    {
     "data": {
      "text/plain": "<Figure size 640x480 with 1 Axes>",
      "image/png": "[encoded data removed]"
     },
     "metadata": {},
     "output_type": "display_data"
    },
    {
     "name": "stdout",
     "output_type": "stream",
     "text": [
      "unique values : 58 가지\n"
     ]
    }
   ],
   "source": [
    "plot_2d_from_DF(sleep_healthDF, 'Daily Steps', 'Sleep Duration', 'Sleep Disorder')    # 걸음수와의 관계"
   ],
   "metadata": {
    "collapsed": false,
    "ExecuteTime": {
     "end_time": "2024-03-10T17:34:38.300550200Z",
     "start_time": "2024-03-10T17:34:38.139139900Z"
    }
   },
   "id": "c55c8400e20c6c24",
   "execution_count": 134
  },
  {
   "cell_type": "code",
   "outputs": [
    {
     "data": {
      "text/plain": "<Figure size 640x480 with 1 Axes>",
      "image/png": "[encoded data removed]"
     },
     "metadata": {},
     "output_type": "display_data"
    },
    {
     "name": "stdout",
     "output_type": "stream",
     "text": [
      "unique values : 51 가지\n"
     ]
    }
   ],
   "source": [
    "plot_2d_from_DF(sleep_healthDF, 'Stress Level', 'Sleep Duration', 'Sleep Disorder')   # 스트레스 레벨과의 상관관계"
   ],
   "metadata": {
    "collapsed": false,
    "ExecuteTime": {
     "end_time": "2024-03-10T17:34:38.703234600Z",
     "start_time": "2024-03-10T17:34:38.513700800Z"
    }
   },
   "id": "e10bc39f566d8831",
   "execution_count": 135
  },
  {
   "cell_type": "code",
   "outputs": [
    {
     "data": {
      "text/plain": "<Figure size 640x480 with 1 Axes>",
      "image/png": "[encoded data removed]"
     },
     "metadata": {},
     "output_type": "display_data"
    },
    {
     "name": "stdout",
     "output_type": "stream",
     "text": [
      "unique values : 59 가지\n"
     ]
    }
   ],
   "source": [
    "plot_2d_from_DF(sleep_healthDF, 'Heart Rate', 'Sleep Duration', 'Sleep Disorder')     # 심박수와의 상관관계"
   ],
   "metadata": {
    "collapsed": false,
    "ExecuteTime": {
     "end_time": "2024-03-10T17:35:26.712845100Z",
     "start_time": "2024-03-10T17:35:26.509589500Z"
    }
   },
   "id": "28fe30c6cf443f31",
   "execution_count": 136
  },
  {
   "cell_type": "code",
   "outputs": [
    {
     "data": {
      "text/plain": "<Figure size 640x480 with 1 Axes>",
      "image/png": "[encoded data removed]"
     },
     "metadata": {},
     "output_type": "display_data"
    },
    {
     "name": "stdout",
     "output_type": "stream",
     "text": [
      "unique values : 62 가지\n"
     ]
    }
   ],
   "source": [
    "plot_2d_from_DF(sleep_healthDF, 'Maximal BP', 'Sleep Duration', 'Sleep Disorder')     # 수축기혈압과의 상관관계"
   ],
   "metadata": {
    "collapsed": false,
    "ExecuteTime": {
     "end_time": "2024-03-10T11:45:18.183668Z",
     "start_time": "2024-03-10T11:45:17.934374600Z"
    }
   },
   "id": "aa12bf067cd211e2",
   "execution_count": 21
  },
  {
   "cell_type": "code",
   "outputs": [
    {
     "data": {
      "text/plain": "((374, 4), (374,))"
     },
     "execution_count": 190,
     "metadata": {},
     "output_type": "execute_result"
    }
   ],
   "source": [
    "featureDF = sleep_healthDF[['Age', 'Stress Level', 'Heart Rate', 'Physical Activity Level']]\n",
    "# featureDF = sleep_healthDF[['Age', 'Stress Level', 'Heart Rate', 'Daily Steps']]\n",
    "targetSR = sleep_healthDF['Sleep Duration']\n",
    "# targetSR = sleep_healthDF['Quality of Sleep']\n",
    "featureDF.shape, targetSR.shape"
   ],
   "metadata": {
    "collapsed": false,
    "ExecuteTime": {
     "end_time": "2024-03-11T01:19:58.523061900Z",
     "start_time": "2024-03-11T01:19:58.441984800Z"
    }
   },
   "id": "b6a681c46548f301",
   "execution_count": 190
  },
  {
   "cell_type": "markdown",
   "source": [
    "(3) 학습 & 평가"
   ],
   "metadata": {
    "collapsed": false
   },
   "id": "b4d99ba85dc04efb"
  },
  {
   "cell_type": "code",
   "outputs": [],
   "source": [
    "import joblib\n",
    "import os\n",
    "\n",
    "def save_model(model, model_name):\n",
    "    # 모델 저장하는 함수\n",
    "    model_dir = 'model/'\n",
    "    model_filename = model_dir + f'{model_name}.pkl'\n",
    "    \n",
    "    # 저장 폴더 존재여부 확인 후 저장\n",
    "    if not os.path.exists(model_dir):\n",
    "        os.mkdir(model_dir)\n",
    "    \n",
    "    joblib.dump(model, model_filename)"
   ],
   "metadata": {
    "collapsed": false,
    "ExecuteTime": {
     "end_time": "2024-03-10T23:58:49.401098100Z",
     "start_time": "2024-03-10T23:58:49.371529200Z"
    }
   },
   "id": "c6e9b5fdf54f49a6",
   "execution_count": 137
  },
  {
   "cell_type": "code",
   "outputs": [],
   "source": [
    "from sklearn.metrics import mean_absolute_error, mean_squared_error, r2_score\n",
    "\n",
    "def print_3_metrics(y_test, y_pred):\n",
    "    print(f'{\"[mean_absolute_error]\":21} : {mean_absolute_error(y_test, y_pred)}')\n",
    "    print(f'{\"[mean_squared_error]\":21} : {mean_squared_error(y_test, y_pred)}')\n",
    "    print(f'{\"[r2_score]\":21} : {r2_score(y_test, y_pred)}')"
   ],
   "metadata": {
    "collapsed": false,
    "ExecuteTime": {
     "end_time": "2024-03-11T01:20:07.269487700Z",
     "start_time": "2024-03-11T01:20:07.196385600Z"
    }
   },
   "id": "4f793cae8823ca1a",
   "execution_count": 192
  },
  {
   "cell_type": "markdown",
   "source": [
    "(3-1) 스케일링 스킵했을 때"
   ],
   "metadata": {
    "collapsed": false
   },
   "id": "76f82771c1601591"
  },
  {
   "cell_type": "code",
   "outputs": [
    {
     "data": {
      "text/plain": "((299, 4), (299,), (75, 4), (75,))"
     },
     "execution_count": 193,
     "metadata": {},
     "output_type": "execute_result"
    }
   ],
   "source": [
    "from sklearn.model_selection import train_test_split\n",
    "\n",
    "x_train, x_test, y_train, y_test = train_test_split(featureDF, targetSR, test_size=0.2, random_state=42)\n",
    "x_train.shape, y_train.shape, x_test.shape, y_test.shape"
   ],
   "metadata": {
    "collapsed": false,
    "ExecuteTime": {
     "end_time": "2024-03-11T01:20:16.848994Z",
     "start_time": "2024-03-11T01:20:16.779977400Z"
    }
   },
   "id": "37896bd23896a26f",
   "execution_count": 193
  },
  {
   "cell_type": "code",
   "outputs": [
    {
     "name": "stdout",
     "output_type": "stream",
     "text": [
      "train_score : 0.9355095796337053 test_score : 0.9297455780569085\n"
     ]
    }
   ],
   "source": [
    "from sklearn.neighbors import KNeighborsRegressor\n",
    "\n",
    "knn_model = KNeighborsRegressor()\n",
    "knn_model.fit(x_train, y_train)\n",
    "\n",
    "train_score = knn_model.score(x_train, y_train)\n",
    "test_score = knn_model.score(x_test, y_test)\n",
    "print(f'train_score : {train_score} test_score : {test_score}')"
   ],
   "metadata": {
    "collapsed": false,
    "ExecuteTime": {
     "end_time": "2024-03-11T01:20:28.670487Z",
     "start_time": "2024-03-11T01:20:28.593484700Z"
    }
   },
   "id": "d8a41045b28b9f5c",
   "execution_count": 195
  },
  {
   "cell_type": "code",
   "outputs": [
    {
     "name": "stdout",
     "output_type": "stream",
     "text": [
      "[mean_absolute_error] : 0.10240000000000003\n",
      "[mean_squared_error]  : 0.046773333333333306\n",
      "[r2_score]            : 0.9297455780569085\n"
     ]
    }
   ],
   "source": [
    "y_pred = knn_model.predict(x_test)\n",
    "print_3_metrics(y_test, y_pred)"
   ],
   "metadata": {
    "collapsed": false,
    "ExecuteTime": {
     "end_time": "2024-03-11T01:20:28.957602400Z",
     "start_time": "2024-03-11T01:20:28.896602100Z"
    }
   },
   "id": "1fc60e7bce85f855",
   "execution_count": 196
  },
  {
   "cell_type": "code",
   "outputs": [
    {
     "name": "stdout",
     "output_type": "stream",
     "text": [
      "train_score : 0.6583328503669823 test_score : 0.730157165895631\n"
     ]
    }
   ],
   "source": [
    "from sklearn.linear_model import LinearRegression\n",
    "\n",
    "lr_model = LinearRegression()\n",
    "lr_model.fit(x_train, y_train)\n",
    "\n",
    "train_score = lr_model.score(x_train, y_train)\n",
    "test_score = lr_model.score(x_test, y_test)\n",
    "print(f'train_score : {train_score} test_score : {test_score}')"
   ],
   "metadata": {
    "collapsed": false,
    "ExecuteTime": {
     "end_time": "2024-03-11T01:21:00.000605200Z",
     "start_time": "2024-03-11T01:20:59.891482500Z"
    }
   },
   "id": "aff44490a4067433",
   "execution_count": 198
  },
  {
   "cell_type": "code",
   "outputs": [
    {
     "name": "stdout",
     "output_type": "stream",
     "text": [
      "[mean_absolute_error] : 0.3114955249936123\n",
      "[mean_squared_error]  : 0.1796534435568885\n",
      "[r2_score]            : 0.730157165895631\n"
     ]
    }
   ],
   "source": [
    "y_pred = lr_model.predict(x_test)\n",
    "print_3_metrics(y_test, y_pred)"
   ],
   "metadata": {
    "collapsed": false,
    "ExecuteTime": {
     "end_time": "2024-03-11T01:21:00.531162200Z",
     "start_time": "2024-03-11T01:21:00.415569500Z"
    }
   },
   "id": "1d34bc3ea04ee052",
   "execution_count": 199
  },
  {
   "cell_type": "code",
   "outputs": [
    {
     "name": "stdout",
     "output_type": "stream",
     "text": [
      "train_score : 0.11067917215089584 test_score : 0.1967568114195415\n"
     ]
    }
   ],
   "source": [
    "from sklearn.svm import SVR\n",
    "\n",
    "svr_model = SVR()\n",
    "svr_model.fit(x_train, y_train)\n",
    "\n",
    "train_score = svr_model.score(x_train, y_train)\n",
    "test_score = svr_model.score(x_test, y_test)\n",
    "print(f'train_score : {train_score} test_score : {test_score}')"
   ],
   "metadata": {
    "collapsed": false,
    "ExecuteTime": {
     "end_time": "2024-03-11T01:21:02.969359900Z",
     "start_time": "2024-03-11T01:21:02.920365300Z"
    }
   },
   "id": "e95f337a6ab631cd",
   "execution_count": 200
  },
  {
   "cell_type": "code",
   "outputs": [
    {
     "name": "stdout",
     "output_type": "stream",
     "text": [
      "[mean_absolute_error] : 0.5770281394221214\n",
      "[mean_squared_error]  : 0.5347757531566708\n",
      "[r2_score]            : 0.1967568114195415\n"
     ]
    }
   ],
   "source": [
    "y_pred = svr_model.predict(x_test)\n",
    "print_3_metrics(y_test, y_pred)"
   ],
   "metadata": {
    "collapsed": false,
    "ExecuteTime": {
     "end_time": "2024-03-11T01:21:05.350969500Z",
     "start_time": "2024-03-11T01:21:05.292762100Z"
    }
   },
   "id": "c54bd3acdf2c39ee",
   "execution_count": 201
  },
  {
   "cell_type": "code",
   "outputs": [
    {
     "name": "stdout",
     "output_type": "stream",
     "text": [
      "train_score : 0.990830031640942 test_score : 0.9779100252438788\n"
     ]
    }
   ],
   "source": [
    "from sklearn.ensemble import RandomForestRegressor\n",
    "\n",
    "rf_model = RandomForestRegressor()\n",
    "rf_model.fit(x_train, y_train)\n",
    "\n",
    "train_score = rf_model.score(x_train, y_train)\n",
    "test_score = rf_model.score(x_test, y_test)\n",
    "print(f'train_score : {train_score} test_score : {test_score}')"
   ],
   "metadata": {
    "collapsed": false,
    "ExecuteTime": {
     "end_time": "2024-03-11T01:21:07.425466500Z",
     "start_time": "2024-03-11T01:21:07.257386400Z"
    }
   },
   "id": "8af972aca9785f44",
   "execution_count": 202
  },
  {
   "cell_type": "code",
   "outputs": [
    {
     "name": "stdout",
     "output_type": "stream",
     "text": [
      "[mean_absolute_error] : 0.0724550987044702\n",
      "[mean_squared_error]  : 0.014706857220032668\n",
      "[r2_score]            : 0.9779100252438788\n"
     ]
    }
   ],
   "source": [
    "y_pred = rf_model.predict(x_test)\n",
    "print_3_metrics(y_test, y_pred)"
   ],
   "metadata": {
    "collapsed": false,
    "ExecuteTime": {
     "end_time": "2024-03-11T01:21:09.795102100Z",
     "start_time": "2024-03-11T01:21:09.745090400Z"
    }
   },
   "id": "8c57c2b5c31df5dc",
   "execution_count": 203
  },
  {
   "cell_type": "code",
   "outputs": [
    {
     "data": {
      "text/plain": "((374, 4), (374, 2))"
     },
     "execution_count": 211,
     "metadata": {},
     "output_type": "execute_result"
    }
   ],
   "source": [
    "featureDF = sleep_healthDF[['Age', 'Stress Level', 'Heart Rate', 'Physical Activity Level']]\n",
    "# featureDF = sleep_healthDF[['Age', 'Stress Level', 'Heart Rate', 'Daily Steps']]\n",
    "targetDF = sleep_healthDF[['Sleep Duration', 'Quality of Sleep']]\n",
    "featureDF.shape, targetDF.shape"
   ],
   "metadata": {
    "collapsed": false,
    "ExecuteTime": {
     "end_time": "2024-03-11T01:45:51.914410900Z",
     "start_time": "2024-03-11T01:45:51.841276600Z"
    }
   },
   "id": "82856c30efa76e1b",
   "execution_count": 211
  },
  {
   "cell_type": "code",
   "outputs": [
    {
     "data": {
      "text/plain": "((299, 4), (299, 2), (75, 4), (75, 2))"
     },
     "execution_count": 212,
     "metadata": {},
     "output_type": "execute_result"
    }
   ],
   "source": [
    "x_train2, x_test2, y_train2, y_test2 = train_test_split(featureDF, targetDF, test_size=0.2, random_state=42)\n",
    "x_train2.shape, y_train2.shape, x_test2.shape, y_test2.shape"
   ],
   "metadata": {
    "collapsed": false,
    "ExecuteTime": {
     "end_time": "2024-03-11T01:45:52.140628900Z",
     "start_time": "2024-03-11T01:45:52.047474700Z"
    }
   },
   "id": "62ef580735d99743",
   "execution_count": 212
  },
  {
   "cell_type": "code",
   "outputs": [
    {
     "name": "stdout",
     "output_type": "stream",
     "text": [
      "train_score : 0.9951474748083544 test_score : 0.9879945422077318\n"
     ]
    }
   ],
   "source": [
    "from sklearn.multioutput import MultiOutputRegressor\n",
    "\n",
    "multi_output_model = MultiOutputRegressor(RandomForestRegressor())\n",
    "multi_output_model.fit(x_train2, y_train2)\n",
    "\n",
    "train_score = multi_output_model.score(x_train2, y_train2)\n",
    "test_score = multi_output_model.score(x_test2, y_test2)\n",
    "print(f'train_score : {train_score} test_score : {test_score}')"
   ],
   "metadata": {
    "collapsed": false,
    "ExecuteTime": {
     "end_time": "2024-03-11T01:45:54.348793800Z",
     "start_time": "2024-03-11T01:45:54.115275400Z"
    }
   },
   "id": "75982ee357590da2",
   "execution_count": 213
  },
  {
   "cell_type": "code",
   "outputs": [
    {
     "data": {
      "text/plain": "   Age  Stress Level  Heart Rate  Daily Steps\n0   25             5          80         5700",
      "text/html": "<div>\n<style scoped>\n    .dataframe tbody tr th:only-of-type {\n        vertical-align: middle;\n    }\n\n    .dataframe tbody tr th {\n        vertical-align: top;\n    }\n\n    .dataframe thead th {\n        text-align: right;\n    }\n</style>\n<table border=\"1\" class=\"dataframe\">\n  <thead>\n    <tr style=\"text-align: right;\">\n      <th></th>\n      <th>Age</th>\n      <th>Stress Level</th>\n      <th>Heart Rate</th>\n      <th>Daily Steps</th>\n    </tr>\n  </thead>\n  <tbody>\n    <tr>\n      <th>0</th>\n      <td>25</td>\n      <td>5</td>\n      <td>80</td>\n      <td>5700</td>\n    </tr>\n  </tbody>\n</table>\n</div>"
     },
     "execution_count": 105,
     "metadata": {},
     "output_type": "execute_result"
    }
   ],
   "source": [
    "# 내 데이터 : [25, 5, 80, 40]\n",
    "# 예시 1) 33, 3, 64, 51 => 5시간\n",
    "# 예시 2) 24, 5, 60, 120 => 8시간\n",
    "# x_input = pd.DataFrame({'Age': [25], 'Stress Level': [5], 'Heart Rate': [80], 'Physical Activity Level': [40]})\n",
    "x_input = pd.DataFrame({'Age': [25], 'Stress Level': [5], 'Heart Rate': [80], 'Daily Steps': [5700]})\n",
    "x_input"
   ],
   "metadata": {
    "collapsed": false,
    "ExecuteTime": {
     "end_time": "2024-03-10T12:15:53.652200400Z",
     "start_time": "2024-03-10T12:15:53.587189100Z"
    }
   },
   "id": "fb4304a53de87fa0",
   "execution_count": 105
  },
  {
   "cell_type": "code",
   "outputs": [
    {
     "data": {
      "text/plain": "array([[6.714, 7.22 ]])"
     },
     "execution_count": 214,
     "metadata": {},
     "output_type": "execute_result"
    }
   ],
   "source": [
    "# 내 데이터의 답 : [6.81(6시간 49분), 8(수면의 질)]\n",
    "multi_output_model.predict(\n",
    "    pd.DataFrame({'Age': [25], 'Stress Level': [5], \n",
    "                  'Heart Rate': [80], 'Physical Activity Level': [40]}))"
   ],
   "metadata": {
    "collapsed": false,
    "ExecuteTime": {
     "end_time": "2024-03-11T01:46:19.070977400Z",
     "start_time": "2024-03-11T01:46:18.978466100Z"
    }
   },
   "id": "7ca0d4b4c5df93f1",
   "execution_count": 214
  },
  {
   "cell_type": "code",
   "outputs": [
    {
     "data": {
      "text/plain": "       Sleep Duration  Quality of Sleep\ncount      374.000000        374.000000\nmean         7.132086          7.312834\nstd          0.795657          1.196956\nmin          5.800000          4.000000\n25%          6.400000          6.000000\n50%          7.200000          7.000000\n75%          7.800000          8.000000\nmax          8.500000          9.000000",
      "text/html": "<div>\n<style scoped>\n    .dataframe tbody tr th:only-of-type {\n        vertical-align: middle;\n    }\n\n    .dataframe tbody tr th {\n        vertical-align: top;\n    }\n\n    .dataframe thead th {\n        text-align: right;\n    }\n</style>\n<table border=\"1\" class=\"dataframe\">\n  <thead>\n    <tr style=\"text-align: right;\">\n      <th></th>\n      <th>Sleep Duration</th>\n      <th>Quality of Sleep</th>\n    </tr>\n  </thead>\n  <tbody>\n    <tr>\n      <th>count</th>\n      <td>374.000000</td>\n      <td>374.000000</td>\n    </tr>\n    <tr>\n      <th>mean</th>\n      <td>7.132086</td>\n      <td>7.312834</td>\n    </tr>\n    <tr>\n      <th>std</th>\n      <td>0.795657</td>\n      <td>1.196956</td>\n    </tr>\n    <tr>\n      <th>min</th>\n      <td>5.800000</td>\n      <td>4.000000</td>\n    </tr>\n    <tr>\n      <th>25%</th>\n      <td>6.400000</td>\n      <td>6.000000</td>\n    </tr>\n    <tr>\n      <th>50%</th>\n      <td>7.200000</td>\n      <td>7.000000</td>\n    </tr>\n    <tr>\n      <th>75%</th>\n      <td>7.800000</td>\n      <td>8.000000</td>\n    </tr>\n    <tr>\n      <th>max</th>\n      <td>8.500000</td>\n      <td>9.000000</td>\n    </tr>\n  </tbody>\n</table>\n</div>"
     },
     "execution_count": 107,
     "metadata": {},
     "output_type": "execute_result"
    }
   ],
   "source": [
    "sleep_healthDF[['Sleep Duration', 'Quality of Sleep']].describe()"
   ],
   "metadata": {
    "collapsed": false,
    "ExecuteTime": {
     "end_time": "2024-03-10T12:16:21.489635400Z",
     "start_time": "2024-03-10T12:16:21.431203700Z"
    }
   },
   "id": "277b1813c49b67ea",
   "execution_count": 107
  },
  {
   "cell_type": "markdown",
   "source": [
    "(3-2) 스케일링 하면"
   ],
   "metadata": {
    "collapsed": false
   },
   "id": "218a47e3ba9be95b"
  },
  {
   "cell_type": "code",
   "outputs": [
    {
     "data": {
      "text/plain": "((374, 4), (374,))"
     },
     "execution_count": 108,
     "metadata": {},
     "output_type": "execute_result"
    }
   ],
   "source": [
    "featureDF = sleep_healthDF[['Age', 'Stress Level', 'Heart Rate', 'Physical Activity Level']]\n",
    "# featureDF = sleep_healthDF[['Age', 'Stress Level', 'Heart Rate', 'Daily Steps']]\n",
    "targetSR = sleep_healthDF['Sleep Duration']\n",
    "featureDF.shape, targetSR.shape"
   ],
   "metadata": {
    "collapsed": false,
    "ExecuteTime": {
     "end_time": "2024-03-10T12:17:00.412144800Z",
     "start_time": "2024-03-10T12:17:00.343809900Z"
    }
   },
   "id": "5bcf7b697b4c4527",
   "execution_count": 108
  },
  {
   "cell_type": "code",
   "outputs": [
    {
     "data": {
      "text/plain": "((299, 4), (299,), (75, 4), (75,))"
     },
     "execution_count": 109,
     "metadata": {},
     "output_type": "execute_result"
    }
   ],
   "source": [
    "x_train, x_test, y_train, y_test = train_test_split(featureDF, targetSR, test_size=0.2, random_state=42)\n",
    "x_train.shape, y_train.shape, x_test.shape, y_test.shape"
   ],
   "metadata": {
    "collapsed": false,
    "ExecuteTime": {
     "end_time": "2024-03-10T12:17:10.311240800Z",
     "start_time": "2024-03-10T12:17:10.242240900Z"
    }
   },
   "id": "420fb83dac3cc6be",
   "execution_count": 109
  },
  {
   "cell_type": "code",
   "outputs": [],
   "source": [
    "from sklearn.preprocessing import StandardScaler, MinMaxScaler, RobustScaler\n",
    "\n",
    "scaler = StandardScaler()\n",
    "scaler.fit(featureDF)\n",
    "\n",
    "scaled_x_train = scaler.transform(x_train)\n",
    "scaled_x_test = scaler.transform(x_test)"
   ],
   "metadata": {
    "collapsed": false,
    "ExecuteTime": {
     "end_time": "2024-03-10T12:17:12.444720300Z",
     "start_time": "2024-03-10T12:17:12.397718200Z"
    }
   },
   "id": "2844435701e0dc52",
   "execution_count": 110
  },
  {
   "cell_type": "code",
   "outputs": [
    {
     "data": {
      "text/plain": "array([[ 0.09415288,  0.91130603,  0.44410682, -0.50555116],\n       [-1.06037748,  1.47559156,  0.44410682, -1.12445832],\n       [-0.82947141, -0.21726501, -0.04013793,  0.73226314],\n       ...,\n       [ 0.78687109,  1.47559156,  1.17047394,  1.97007745],\n       [ 1.71049537, -1.34583606, -0.52438269,  0.11335599],\n       [-0.71401837, -0.78155054, -0.52438269,  0.11335599]])"
     },
     "execution_count": 111,
     "metadata": {},
     "output_type": "execute_result"
    }
   ],
   "source": [
    "scaled_x_train"
   ],
   "metadata": {
    "collapsed": false,
    "ExecuteTime": {
     "end_time": "2024-03-10T12:17:15.297272400Z",
     "start_time": "2024-03-10T12:17:15.248900500Z"
    }
   },
   "id": "65d1560287360afd",
   "execution_count": 111
  },
  {
   "cell_type": "code",
   "outputs": [],
   "source": [
    "def print_3_scaler_scores(model, x_train, y_train, x_test, y_test):\n",
    "    scaler_list = [StandardScaler(), MinMaxScaler(), RobustScaler()]\n",
    "    \n",
    "    for scaler in scaler_list:\n",
    "        scaler.fit(x_train)\n",
    "        scaled_x_train = scaler.transform(x_train)\n",
    "        scaled_x_test = scaler.transform(x_test)\n",
    "        \n",
    "        model.fit(scaled_x_train, y_train)\n",
    "        train_score = model.score(scaled_x_train, y_train)\n",
    "        test_score = model.score(scaled_x_test, y_test)\n",
    "        print(f'{str(type(scaler)).split(\".\")[-1][:-2]}')\n",
    "        print(f'train_score : {train_score} test_score : {test_score}')"
   ],
   "metadata": {
    "collapsed": false,
    "ExecuteTime": {
     "end_time": "2024-03-10T12:17:20.314572100Z",
     "start_time": "2024-03-10T12:17:20.284571900Z"
    }
   },
   "id": "8c4e504e7559812a",
   "execution_count": 112
  },
  {
   "cell_type": "code",
   "outputs": [
    {
     "name": "stdout",
     "output_type": "stream",
     "text": [
      "StandardScaler\n",
      "train_score : 0.9660379085410792 test_score : 0.9672680082030248\n",
      "MinMaxScaler\n",
      "train_score : 0.9703565501913906 test_score : 0.956902076390669\n",
      "RobustScaler\n",
      "train_score : 0.9635667217896515 test_score : 0.9652973596513714\n"
     ]
    }
   ],
   "source": [
    "print_3_scaler_scores(KNeighborsRegressor(), x_train, y_train, x_test, y_test)"
   ],
   "metadata": {
    "collapsed": false,
    "ExecuteTime": {
     "end_time": "2024-03-10T12:17:20.790522600Z",
     "start_time": "2024-03-10T12:17:20.716533600Z"
    }
   },
   "id": "1dbbd4b48bd39242",
   "execution_count": 113
  },
  {
   "cell_type": "code",
   "outputs": [
    {
     "name": "stdout",
     "output_type": "stream",
     "text": [
      "train_score : 0.9668666733555317 test_score : 0.9672680082030248\n"
     ]
    }
   ],
   "source": [
    "knn_model = KNeighborsRegressor()\n",
    "knn_model.fit(scaled_x_train, y_train)\n",
    "\n",
    "train_score = knn_model.score(scaled_x_train, y_train)\n",
    "test_score = knn_model.score(scaled_x_test, y_test)\n",
    "print(f'train_score : {train_score} test_score : {test_score}')"
   ],
   "metadata": {
    "collapsed": false,
    "ExecuteTime": {
     "end_time": "2024-03-10T12:17:42.278834900Z",
     "start_time": "2024-03-10T12:17:42.248734100Z"
    }
   },
   "id": "d4e13f5cc1cb7922",
   "execution_count": 114
  },
  {
   "cell_type": "code",
   "outputs": [
    {
     "name": "stdout",
     "output_type": "stream",
     "text": [
      "StandardScaler\n",
      "train_score : 0.6583328503669821 test_score : 0.7301571658956634\n",
      "MinMaxScaler\n",
      "train_score : 0.6583328503669823 test_score : 0.7301571658956634\n",
      "RobustScaler\n",
      "train_score : 0.6583328503669822 test_score : 0.7301571658956634\n"
     ]
    }
   ],
   "source": [
    "print_3_scaler_scores(LinearRegression(), x_train, y_train, x_test, y_test)"
   ],
   "metadata": {
    "collapsed": false,
    "ExecuteTime": {
     "end_time": "2024-03-10T12:17:45.219262500Z",
     "start_time": "2024-03-10T12:17:45.136087500Z"
    }
   },
   "id": "347ae513d7c3e31b",
   "execution_count": 115
  },
  {
   "cell_type": "code",
   "outputs": [
    {
     "name": "stdout",
     "output_type": "stream",
     "text": [
      "train_score : 0.6583328503669822 test_score : 0.7301571658956634\n"
     ]
    }
   ],
   "source": [
    "lr_model = LinearRegression()\n",
    "lr_model.fit(scaled_x_train, y_train)\n",
    "\n",
    "train_score = lr_model.score(scaled_x_train, y_train)\n",
    "test_score = lr_model.score(scaled_x_test, y_test)\n",
    "print(f'train_score : {train_score} test_score : {test_score}')"
   ],
   "metadata": {
    "collapsed": false,
    "ExecuteTime": {
     "end_time": "2024-03-10T12:17:47.992608Z",
     "start_time": "2024-03-10T12:17:47.952607900Z"
    }
   },
   "id": "628e6835a2ea7477",
   "execution_count": 116
  },
  {
   "cell_type": "code",
   "outputs": [
    {
     "name": "stdout",
     "output_type": "stream",
     "text": [
      "StandardScaler\n",
      "train_score : 0.9582145628799976 test_score : 0.9520490091964333\n",
      "MinMaxScaler\n",
      "train_score : 0.9585592431122689 test_score : 0.9464172978696596\n",
      "RobustScaler\n",
      "train_score : 0.9514243830177599 test_score : 0.9506827283081267\n"
     ]
    }
   ],
   "source": [
    "print_3_scaler_scores(SVR(), x_train, y_train, x_test, y_test)"
   ],
   "metadata": {
    "collapsed": false,
    "ExecuteTime": {
     "end_time": "2024-03-10T12:17:48.415133500Z",
     "start_time": "2024-03-10T12:17:48.321434200Z"
    }
   },
   "id": "c5e43416f826d552",
   "execution_count": 117
  },
  {
   "cell_type": "code",
   "outputs": [
    {
     "name": "stdout",
     "output_type": "stream",
     "text": [
      "train_score : 0.9583564522792178 test_score : 0.9520069303278003\n"
     ]
    }
   ],
   "source": [
    "svr_model = SVR()\n",
    "svr_model.fit(scaled_x_train, y_train)\n",
    "\n",
    "train_score = svr_model.score(scaled_x_train, y_train)\n",
    "test_score = svr_model.score(scaled_x_test, y_test)\n",
    "print(f'train_score : {train_score} test_score : {test_score}')"
   ],
   "metadata": {
    "collapsed": false,
    "ExecuteTime": {
     "end_time": "2024-03-10T12:17:49.769189200Z",
     "start_time": "2024-03-10T12:17:49.707189700Z"
    }
   },
   "id": "f5b6ad4f367d3e9c",
   "execution_count": 118
  },
  {
   "cell_type": "code",
   "outputs": [
    {
     "name": "stdout",
     "output_type": "stream",
     "text": [
      "StandardScaler\n",
      "train_score : 0.9913563289267429 test_score : 0.9785451315958057\n",
      "MinMaxScaler\n",
      "train_score : 0.9904445979194741 test_score : 0.973168335186562\n",
      "RobustScaler\n",
      "train_score : 0.9909594413547109 test_score : 0.9755475089600176\n"
     ]
    }
   ],
   "source": [
    "print_3_scaler_scores(RandomForestRegressor(), x_train, y_train, x_test, y_test)"
   ],
   "metadata": {
    "collapsed": false,
    "ExecuteTime": {
     "end_time": "2024-03-10T12:17:50.619648800Z",
     "start_time": "2024-03-10T12:17:50.190333800Z"
    }
   },
   "id": "f3fea617ed9faaa5",
   "execution_count": 119
  },
  {
   "cell_type": "code",
   "outputs": [
    {
     "name": "stdout",
     "output_type": "stream",
     "text": [
      "train_score : 0.9914184877237341 test_score : 0.9775903747359008\n"
     ]
    }
   ],
   "source": [
    "rf_model = RandomForestRegressor()\n",
    "rf_model.fit(scaled_x_train, y_train)\n",
    "\n",
    "train_score = rf_model.score(scaled_x_train, y_train)\n",
    "test_score = rf_model.score(scaled_x_test, y_test)\n",
    "print(f'train_score : {train_score} test_score : {test_score}')"
   ],
   "metadata": {
    "collapsed": false,
    "ExecuteTime": {
     "end_time": "2024-03-10T12:17:51.414371700Z",
     "start_time": "2024-03-10T12:17:51.257983900Z"
    }
   },
   "id": "f12455a5cc804f16",
   "execution_count": 120
  },
  {
   "cell_type": "markdown",
   "source": [
    "(3-3) 스케일링 + 전처리"
   ],
   "metadata": {
    "collapsed": false
   },
   "id": "7251d2c364e20eb"
  },
  {
   "cell_type": "code",
   "outputs": [
    {
     "name": "stdout",
     "output_type": "stream",
     "text": [
      "result : \n",
      " [[-1.52218962  0.91130603  2.38108582 -0.92155851]\n",
      " [-1.52218962  0.91130603  2.38108582 -0.92155851]\n",
      " [-1.52218962  0.91130603  2.86533057 -0.92155851]\n",
      " [-0.94492444  1.47559156  2.6232082  -1.3061196 ]\n",
      " [-0.36765927  0.91130603  2.38108582 -0.92155851]\n",
      " [ 0.67141805 -0.21726501  3.10745295  0.28019492]\n",
      " [ 0.78687109 -1.34583606  3.83382008  1.24159766]\n",
      " [-1.63764266  1.47559156  3.5916977  -1.40225988]\n",
      " [-0.94492444  1.47559156  2.6232082  -1.3061196 ]\n",
      " [ 0.67141805 -0.21726501  3.10745295  0.28019492]\n",
      " [ 0.78687109 -1.34583606  3.83382008  1.24159766]]\n"
     ]
    }
   ],
   "source": [
    "# 이상치 제거 예시 (train data)\n",
    "condition = np.logical_and(np.all(scaled_x_train >= -2, axis=1), np.all(scaled_x_train <= 2, axis=1))\n",
    "result = scaled_x_train[~condition]\n",
    "print(f'result : \\n {result}')"
   ],
   "metadata": {
    "collapsed": false,
    "ExecuteTime": {
     "end_time": "2024-03-10T11:45:23.353434300Z",
     "start_time": "2024-03-10T11:45:23.331439800Z"
    }
   },
   "id": "66df4fdb9d15ea40",
   "execution_count": 52
  },
  {
   "cell_type": "code",
   "outputs": [
    {
     "data": {
      "text/plain": "16     6.5\n18     6.5\n6      6.3\n81     5.8\n147    6.5\n266    7.3\n277    8.1\n4      5.9\n80     5.8\n264    7.3\n276    8.1\nName: Sleep Duration, dtype: float64"
     },
     "execution_count": 53,
     "metadata": {},
     "output_type": "execute_result"
    }
   ],
   "source": [
    "y_train[~condition]"
   ],
   "metadata": {
    "collapsed": false,
    "ExecuteTime": {
     "end_time": "2024-03-10T11:45:23.412974500Z",
     "start_time": "2024-03-10T11:45:23.347434200Z"
    }
   },
   "id": "68702c295374eb7b",
   "execution_count": 53
  },
  {
   "cell_type": "code",
   "outputs": [],
   "source": [
    "def print_3_scaler_scores_without_outliers(model, x_train, y_train, x_test, y_test):\n",
    "    scaler_list = [StandardScaler(), RobustScaler()]\n",
    "    \n",
    "    for scaler in scaler_list:\n",
    "        scaler.fit(x_train)\n",
    "        scaled_x_train = scaler.transform(x_train)\n",
    "        scaled_x_test = scaler.transform(x_test)\n",
    "        \n",
    "        # -2 ~ 2 사이의 값만 사용 [이상치 판단 척도]\n",
    "        train_condition = np.logical_and(np.all(scaled_x_train >= -3, axis=1), np.all(scaled_x_train <= 3, axis=1))\n",
    "        test_condition = np.logical_and(np.all(scaled_x_test >= -3, axis=1), np.all(scaled_x_test <= 3, axis=1))\n",
    "        \n",
    "        model.fit(scaled_x_train[train_condition], y_train[train_condition])\n",
    "        train_score = model.score(scaled_x_train[train_condition], y_train[train_condition])\n",
    "        test_score = model.score(scaled_x_test[test_condition], y_test[test_condition])\n",
    "        print(f'{str(type(scaler)).split(\".\")[-1][:-2]:15} & No_outliers')\n",
    "        print(f'train_score : {train_score} test_score : {test_score}')"
   ],
   "metadata": {
    "collapsed": false,
    "ExecuteTime": {
     "end_time": "2024-03-10T12:21:33.837865700Z",
     "start_time": "2024-03-10T12:21:33.795816500Z"
    }
   },
   "id": "a95dedeec23ff120",
   "execution_count": 121
  },
  {
   "cell_type": "code",
   "outputs": [
    {
     "name": "stdout",
     "output_type": "stream",
     "text": [
      "StandardScaler  & No_outliers\n",
      "train_score : 0.97139594466655 test_score : 0.9786284640113986\n",
      "RobustScaler    & No_outliers\n",
      "train_score : 0.9681156025791167 test_score : 0.9786964720813703\n"
     ]
    }
   ],
   "source": [
    "print_3_scaler_scores_without_outliers(KNeighborsRegressor(), x_train, y_train, x_test, y_test)"
   ],
   "metadata": {
    "collapsed": false,
    "ExecuteTime": {
     "end_time": "2024-03-10T12:21:34.339113300Z",
     "start_time": "2024-03-10T12:21:34.279510200Z"
    }
   },
   "id": "fb7cf4b4ef918602",
   "execution_count": 122
  },
  {
   "cell_type": "code",
   "outputs": [
    {
     "name": "stdout",
     "output_type": "stream",
     "text": [
      "StandardScaler  & No_outliers\n",
      "train_score : 0.6526252809129495 test_score : 0.7149155162420346\n",
      "RobustScaler    & No_outliers\n",
      "train_score : 0.6526252809129494 test_score : 0.7149155162420346\n"
     ]
    }
   ],
   "source": [
    "print_3_scaler_scores_without_outliers(LinearRegression(), x_train, y_train, x_test, y_test)"
   ],
   "metadata": {
    "collapsed": false,
    "ExecuteTime": {
     "end_time": "2024-03-10T12:21:36.401546300Z",
     "start_time": "2024-03-10T12:21:36.358547200Z"
    }
   },
   "id": "3497e1daf8400404",
   "execution_count": 123
  },
  {
   "cell_type": "code",
   "outputs": [
    {
     "name": "stdout",
     "output_type": "stream",
     "text": [
      "StandardScaler  & No_outliers\n",
      "train_score : 0.960063490430572 test_score : 0.9628546299176646\n",
      "RobustScaler    & No_outliers\n",
      "train_score : 0.955816063661358 test_score : 0.9621206269179036\n"
     ]
    }
   ],
   "source": [
    "print_3_scaler_scores_without_outliers(SVR(), x_train, y_train, x_test, y_test)"
   ],
   "metadata": {
    "collapsed": false,
    "ExecuteTime": {
     "end_time": "2024-03-10T12:21:36.765649600Z",
     "start_time": "2024-03-10T12:21:36.709536100Z"
    }
   },
   "id": "329217f9e1cf98ce",
   "execution_count": 124
  },
  {
   "cell_type": "code",
   "outputs": [
    {
     "name": "stdout",
     "output_type": "stream",
     "text": [
      "StandardScaler  & No_outliers\n",
      "train_score : 0.9905715661668487 test_score : 0.9812767999902775\n",
      "RobustScaler    & No_outliers\n",
      "train_score : 0.9908616151622395 test_score : 0.9842691694509019\n"
     ]
    }
   ],
   "source": [
    "print_3_scaler_scores_without_outliers(RandomForestRegressor(), x_train, y_train, x_test, y_test)"
   ],
   "metadata": {
    "collapsed": false,
    "ExecuteTime": {
     "end_time": "2024-03-10T12:21:37.277818300Z",
     "start_time": "2024-03-10T12:21:37.050809500Z"
    }
   },
   "id": "480c43c7312984bf",
   "execution_count": 125
  },
  {
   "cell_type": "markdown",
   "source": [
    "이상치 판단 척도를 (-2 ~ 2) 로 했을 때 더 점수가 좋은 것 : \n",
    "- SVR  \n",
    "\n",
    "이상치 판단 척도를 (-3 ~ 3) 로 했을 때 더 점수가 좋은 것 : \n",
    "- KNeighborsRegressor\n",
    "- LinearRegression\n",
    "- RandomForestRegressor"
   ],
   "metadata": {
    "collapsed": false
   },
   "id": "2ef8e389d5363156"
  },
  {
   "cell_type": "code",
   "outputs": [
    {
     "name": "stdout",
     "output_type": "stream",
     "text": [
      "StandardScaler\n",
      "train_score : 0.6774657858595171 test_score : 0.74347230671155\n",
      "MinMaxScaler\n",
      "train_score : 0.6765665466452939 test_score : 0.7425077052486435\n",
      "RobustScaler\n",
      "train_score : 0.6773472945149412 test_score : 0.7434167541134741\n"
     ]
    }
   ],
   "source": [
    "from sklearn.linear_model import Ridge\n",
    "print_3_scaler_scores(Ridge(alpha=1.0), x_train, y_train, x_test, y_test)"
   ],
   "metadata": {
    "collapsed": false,
    "ExecuteTime": {
     "end_time": "2024-03-10T11:45:23.825556300Z",
     "start_time": "2024-03-10T11:45:23.772271100Z"
    }
   },
   "id": "271c9a2a1286430c",
   "execution_count": 59
  },
  {
   "cell_type": "code",
   "outputs": [
    {
     "name": "stdout",
     "output_type": "stream",
     "text": [
      "StandardScaler\n",
      "train_score : 0.0 test_score : -0.021696637647022454\n",
      "MinMaxScaler\n",
      "train_score : 0.0 test_score : -0.021696637647022454\n",
      "RobustScaler\n",
      "train_score : 0.0 test_score : -0.021696637647022454\n"
     ]
    }
   ],
   "source": [
    "from sklearn.linear_model import Lasso\n",
    "print_3_scaler_scores(Lasso(alpha=1.0), x_train, y_train, x_test, y_test)"
   ],
   "metadata": {
    "collapsed": false,
    "ExecuteTime": {
     "end_time": "2024-03-10T11:45:23.863555100Z",
     "start_time": "2024-03-10T11:45:23.816559200Z"
    }
   },
   "id": "aaaba588364fd70e",
   "execution_count": 60
  },
  {
   "cell_type": "code",
   "outputs": [
    {
     "name": "stdout",
     "output_type": "stream",
     "text": [
      "Ridge \n",
      "Best alpha : 1.2589254117941673\n",
      "Mean Squared Error :  0.17079070214027808\n",
      "r2_score :  0.7434691693531935\n"
     ]
    }
   ],
   "source": [
    "from sklearn.linear_model import RidgeCV\n",
    "\n",
    "alphas = np.logspace(0, 2, 21) # alpha 값의 후보 범위\n",
    "ridge_cv = RidgeCV(alphas=alphas, store_cv_values=True) # 교차 검증 값을 저장하려면 store_cv_values=True로 설정\n",
    "\n",
    "# 모델 훈련\n",
    "ridge_cv.fit(x_train, y_train)\n",
    "\n",
    "# 최적의 alpha 확인\n",
    "best_alpha_ridge = ridge_cv.alpha_\n",
    "print('Ridge', '\\nBest alpha :', best_alpha_ridge)\n",
    "\n",
    "# 훈련된 모델을 사용하여 예측\n",
    "y_pred = ridge_cv.predict(x_test)\n",
    "\n",
    "# 평가 : 예측값과 실제값 간의 평균 제곱 오차 계산\n",
    "mse = mean_squared_error(y_test, y_pred)\n",
    "print('Mean Squared Error : ', mse)\n",
    "r2 = r2_score(y_test, y_pred)\n",
    "print('r2_score : ', r2)"
   ],
   "metadata": {
    "collapsed": false,
    "ExecuteTime": {
     "end_time": "2024-03-10T11:45:23.907050700Z",
     "start_time": "2024-03-10T11:45:23.837558Z"
    }
   },
   "id": "87a36149dd066d9e",
   "execution_count": 61
  },
  {
   "cell_type": "code",
   "outputs": [
    {
     "name": "stdout",
     "output_type": "stream",
     "text": [
      "Lasso \n",
      "Best alpha: 1000000.0\n",
      "Mean Squared Error: 0.6802156515773499\n",
      "r2_score :  -0.021696637647022454\n"
     ]
    }
   ],
   "source": [
    "from sklearn.linear_model import LassoCV\n",
    "\n",
    "alphas = np.logspace(3, 6, 4)  # alpha 값의 후보 범위\n",
    "lasso_cv = LassoCV(alphas=alphas, cv=5)  # cv는 교차 검증 폴드 수\n",
    "\n",
    "# 모델 훈련\n",
    "lasso_cv.fit(x_train, y_train)\n",
    "\n",
    "# 최적의 alpha 확인\n",
    "best_alpha = lasso_cv.alpha_\n",
    "print(\"Lasso\", \"\\nBest alpha:\", best_alpha)\n",
    "\n",
    "# 훈련된 모델을 사용하여 예측\n",
    "y_pred = lasso_cv.predict(x_test)\n",
    "\n",
    "# 평가: 예측값과 실제값 간의 평균 제곱 오차 계산\n",
    "mse = mean_squared_error(y_test, y_pred)\n",
    "print(\"Mean Squared Error:\", mse)\n",
    "r2 = r2_score(y_test, y_pred)\n",
    "print('r2_score : ', r2)"
   ],
   "metadata": {
    "collapsed": false,
    "ExecuteTime": {
     "end_time": "2024-03-10T11:45:23.958068400Z",
     "start_time": "2024-03-10T11:45:23.852555400Z"
    }
   },
   "id": "f216d47b882da49f",
   "execution_count": 62
  },
  {
   "cell_type": "markdown",
   "source": [
    "Ridge, Lasso 는 LinaerRegression 의 변형이므로, LinearRegression 의 점수에서 크게 나아지지 않는다."
   ],
   "metadata": {
    "collapsed": false
   },
   "id": "164a257b4945546b"
  },
  {
   "cell_type": "markdown",
   "source": [
    "(3-4) GridSearchCV 최적 파라미터"
   ],
   "metadata": {
    "collapsed": false
   },
   "id": "9cf246650e585afb"
  },
  {
   "cell_type": "code",
   "outputs": [],
   "source": [
    "from sklearn.model_selection import GridSearchCV\n",
    "\n",
    "param_grid = {\n",
    "    'n_estimators' : [50, 100, 200],    # 의사결정 트리의 개수\n",
    "    'max_depth' : [None, 10, 20],       # 각 의사결정 트리의 최대 깊이\n",
    "    'min_samples_split': [2, 5, 10],    # 노드를 분할하기 위한 최소한의 샘플 수\n",
    "    'min_samples_leaf': [1, 2, 4]       # 리프 노드에 있어야 할 최소한의 샘플 수\n",
    "}\n",
    "\n",
    "# RandomForestClassifier 모델 생성\n",
    "rf_model = RandomForestRegressor()\n",
    "\n",
    "# GridSearchCV 객체 생성\n",
    "gscv = GridSearchCV(estimator=rf_model, param_grid=param_grid, cv=5)\n",
    "\n",
    "# 교차 검증 수행\n",
    "gscv.fit(x_train, y_train)\n",
    "\n",
    "# 점수 저장\n",
    "cv_resultsDF = pd.DataFrame(gscv.cv_results_)\n",
    "best_score = gscv.best_score_   # default : mean_test_score 기준\n",
    "\n",
    "# 최적의 하이퍼 파라미터 저장\n",
    "best_params = gscv.best_params_\n",
    "best_model = gscv.best_estimator_"
   ],
   "metadata": {
    "collapsed": false,
    "ExecuteTime": {
     "end_time": "2024-03-10T11:50:24.247088500Z",
     "start_time": "2024-03-10T11:49:43.087510500Z"
    }
   },
   "id": "23b82bcbec2dc1be",
   "execution_count": 68
  },
  {
   "cell_type": "code",
   "outputs": [
    {
     "data": {
      "text/plain": "    mean_fit_time  std_fit_time  mean_score_time  std_score_time  \\\n0        0.044349      0.001995         0.003407        0.000496   \n1        0.083794      0.002006         0.005999        0.001122   \n2        0.176470      0.011194         0.011236        0.001875   \n3        0.043016      0.000882         0.003398        0.000492   \n4        0.083146      0.001464         0.006028        0.001073   \n..            ...           ...              ...             ...   \n76       0.077989      0.000855         0.005836        0.000300   \n77       0.156359      0.003974         0.010650        0.000453   \n78       0.038985      0.000862         0.003216        0.000398   \n79       0.078190      0.002511         0.006045        0.000610   \n80       0.152927      0.002582         0.010167        0.000421   \n\n   param_max_depth param_min_samples_leaf param_min_samples_split  \\\n0             None                      1                       2   \n1             None                      1                       2   \n2             None                      1                       2   \n3             None                      1                       5   \n4             None                      1                       5   \n..             ...                    ...                     ...   \n76              20                      4                       5   \n77              20                      4                       5   \n78              20                      4                      10   \n79              20                      4                      10   \n80              20                      4                      10   \n\n   param_n_estimators                                             params  \\\n0                  50  {'max_depth': None, 'min_samples_leaf': 1, 'mi...   \n1                 100  {'max_depth': None, 'min_samples_leaf': 1, 'mi...   \n2                 200  {'max_depth': None, 'min_samples_leaf': 1, 'mi...   \n3                  50  {'max_depth': None, 'min_samples_leaf': 1, 'mi...   \n4                 100  {'max_depth': None, 'min_samples_leaf': 1, 'mi...   \n..                ...                                                ...   \n76                100  {'max_depth': 20, 'min_samples_leaf': 4, 'min_...   \n77                200  {'max_depth': 20, 'min_samples_leaf': 4, 'min_...   \n78                 50  {'max_depth': 20, 'min_samples_leaf': 4, 'min_...   \n79                100  {'max_depth': 20, 'min_samples_leaf': 4, 'min_...   \n80                200  {'max_depth': 20, 'min_samples_leaf': 4, 'min_...   \n\n    split0_test_score  split1_test_score  split2_test_score  \\\n0            0.958360           0.938529           0.977492   \n1            0.959234           0.943043           0.977159   \n2            0.959773           0.942206           0.977072   \n3            0.960324           0.939625           0.975662   \n4            0.961977           0.940771           0.975520   \n..                ...                ...                ...   \n76           0.956602           0.929587           0.972958   \n77           0.954743           0.934197           0.974185   \n78           0.959625           0.935246           0.969977   \n79           0.953811           0.931702           0.974964   \n80           0.956012           0.934401           0.973908   \n\n    split3_test_score  split4_test_score  mean_test_score  std_test_score  \\\n0            0.981305           0.982781         0.967694        0.017009   \n1            0.981874           0.983270         0.968916        0.015524   \n2            0.979352           0.984640         0.968609        0.015616   \n3            0.984740           0.984312         0.968933        0.017116   \n4            0.983294           0.984954         0.969303        0.016414   \n..                ...                ...              ...             ...   \n76           0.984691           0.975425         0.963853        0.019379   \n77           0.985328           0.974888         0.964668        0.018159   \n78           0.984559           0.974004         0.964682        0.016746   \n79           0.985163           0.973688         0.963866        0.019020   \n80           0.984925           0.974584         0.964766        0.017805   \n\n    rank_test_score  \n0                32  \n1                 8  \n2                13  \n3                 7  \n4                 4  \n..              ...  \n76               74  \n77               61  \n78               59  \n79               73  \n80               58  \n\n[81 rows x 17 columns]",
      "text/html": "<div>\n<style scoped>\n    .dataframe tbody tr th:only-of-type {\n        vertical-align: middle;\n    }\n\n    .dataframe tbody tr th {\n        vertical-align: top;\n    }\n\n    .dataframe thead th {\n        text-align: right;\n    }\n</style>\n<table border=\"1\" class=\"dataframe\">\n  <thead>\n    <tr style=\"text-align: right;\">\n      <th></th>\n      <th>mean_fit_time</th>\n      <th>std_fit_time</th>\n      <th>mean_score_time</th>\n      <th>std_score_time</th>\n      <th>param_max_depth</th>\n      <th>param_min_samples_leaf</th>\n      <th>param_min_samples_split</th>\n      <th>param_n_estimators</th>\n      <th>params</th>\n      <th>split0_test_score</th>\n      <th>split1_test_score</th>\n      <th>split2_test_score</th>\n      <th>split3_test_score</th>\n      <th>split4_test_score</th>\n      <th>mean_test_score</th>\n      <th>std_test_score</th>\n      <th>rank_test_score</th>\n    </tr>\n  </thead>\n  <tbody>\n    <tr>\n      <th>0</th>\n      <td>0.044349</td>\n      <td>0.001995</td>\n      <td>0.003407</td>\n      <td>0.000496</td>\n      <td>None</td>\n      <td>1</td>\n      <td>2</td>\n      <td>50</td>\n      <td>{'max_depth': None, 'min_samples_leaf': 1, 'mi...</td>\n      <td>0.958360</td>\n      <td>0.938529</td>\n      <td>0.977492</td>\n      <td>0.981305</td>\n      <td>0.982781</td>\n      <td>0.967694</td>\n      <td>0.017009</td>\n      <td>32</td>\n    </tr>\n    <tr>\n      <th>1</th>\n      <td>0.083794</td>\n      <td>0.002006</td>\n      <td>0.005999</td>\n      <td>0.001122</td>\n      <td>None</td>\n      <td>1</td>\n      <td>2</td>\n      <td>100</td>\n      <td>{'max_depth': None, 'min_samples_leaf': 1, 'mi...</td>\n      <td>0.959234</td>\n      <td>0.943043</td>\n      <td>0.977159</td>\n      <td>0.981874</td>\n      <td>0.983270</td>\n      <td>0.968916</td>\n      <td>0.015524</td>\n      <td>8</td>\n    </tr>\n    <tr>\n      <th>2</th>\n      <td>0.176470</td>\n      <td>0.011194</td>\n      <td>0.011236</td>\n      <td>0.001875</td>\n      <td>None</td>\n      <td>1</td>\n      <td>2</td>\n      <td>200</td>\n      <td>{'max_depth': None, 'min_samples_leaf': 1, 'mi...</td>\n      <td>0.959773</td>\n      <td>0.942206</td>\n      <td>0.977072</td>\n      <td>0.979352</td>\n      <td>0.984640</td>\n      <td>0.968609</td>\n      <td>0.015616</td>\n      <td>13</td>\n    </tr>\n    <tr>\n      <th>3</th>\n      <td>0.043016</td>\n      <td>0.000882</td>\n      <td>0.003398</td>\n      <td>0.000492</td>\n      <td>None</td>\n      <td>1</td>\n      <td>5</td>\n      <td>50</td>\n      <td>{'max_depth': None, 'min_samples_leaf': 1, 'mi...</td>\n      <td>0.960324</td>\n      <td>0.939625</td>\n      <td>0.975662</td>\n      <td>0.984740</td>\n      <td>0.984312</td>\n      <td>0.968933</td>\n      <td>0.017116</td>\n      <td>7</td>\n    </tr>\n    <tr>\n      <th>4</th>\n      <td>0.083146</td>\n      <td>0.001464</td>\n      <td>0.006028</td>\n      <td>0.001073</td>\n      <td>None</td>\n      <td>1</td>\n      <td>5</td>\n      <td>100</td>\n      <td>{'max_depth': None, 'min_samples_leaf': 1, 'mi...</td>\n      <td>0.961977</td>\n      <td>0.940771</td>\n      <td>0.975520</td>\n      <td>0.983294</td>\n      <td>0.984954</td>\n      <td>0.969303</td>\n      <td>0.016414</td>\n      <td>4</td>\n    </tr>\n    <tr>\n      <th>...</th>\n      <td>...</td>\n      <td>...</td>\n      <td>...</td>\n      <td>...</td>\n      <td>...</td>\n      <td>...</td>\n      <td>...</td>\n      <td>...</td>\n      <td>...</td>\n      <td>...</td>\n      <td>...</td>\n      <td>...</td>\n      <td>...</td>\n      <td>...</td>\n      <td>...</td>\n      <td>...</td>\n      <td>...</td>\n    </tr>\n    <tr>\n      <th>76</th>\n      <td>0.077989</td>\n      <td>0.000855</td>\n      <td>0.005836</td>\n      <td>0.000300</td>\n      <td>20</td>\n      <td>4</td>\n      <td>5</td>\n      <td>100</td>\n      <td>{'max_depth': 20, 'min_samples_leaf': 4, 'min_...</td>\n      <td>0.956602</td>\n      <td>0.929587</td>\n      <td>0.972958</td>\n      <td>0.984691</td>\n      <td>0.975425</td>\n      <td>0.963853</td>\n      <td>0.019379</td>\n      <td>74</td>\n    </tr>\n    <tr>\n      <th>77</th>\n      <td>0.156359</td>\n      <td>0.003974</td>\n      <td>0.010650</td>\n      <td>0.000453</td>\n      <td>20</td>\n      <td>4</td>\n      <td>5</td>\n      <td>200</td>\n      <td>{'max_depth': 20, 'min_samples_leaf': 4, 'min_...</td>\n      <td>0.954743</td>\n      <td>0.934197</td>\n      <td>0.974185</td>\n      <td>0.985328</td>\n      <td>0.974888</td>\n      <td>0.964668</td>\n      <td>0.018159</td>\n      <td>61</td>\n    </tr>\n    <tr>\n      <th>78</th>\n      <td>0.038985</td>\n      <td>0.000862</td>\n      <td>0.003216</td>\n      <td>0.000398</td>\n      <td>20</td>\n      <td>4</td>\n      <td>10</td>\n      <td>50</td>\n      <td>{'max_depth': 20, 'min_samples_leaf': 4, 'min_...</td>\n      <td>0.959625</td>\n      <td>0.935246</td>\n      <td>0.969977</td>\n      <td>0.984559</td>\n      <td>0.974004</td>\n      <td>0.964682</td>\n      <td>0.016746</td>\n      <td>59</td>\n    </tr>\n    <tr>\n      <th>79</th>\n      <td>0.078190</td>\n      <td>0.002511</td>\n      <td>0.006045</td>\n      <td>0.000610</td>\n      <td>20</td>\n      <td>4</td>\n      <td>10</td>\n      <td>100</td>\n      <td>{'max_depth': 20, 'min_samples_leaf': 4, 'min_...</td>\n      <td>0.953811</td>\n      <td>0.931702</td>\n      <td>0.974964</td>\n      <td>0.985163</td>\n      <td>0.973688</td>\n      <td>0.963866</td>\n      <td>0.019020</td>\n      <td>73</td>\n    </tr>\n    <tr>\n      <th>80</th>\n      <td>0.152927</td>\n      <td>0.002582</td>\n      <td>0.010167</td>\n      <td>0.000421</td>\n      <td>20</td>\n      <td>4</td>\n      <td>10</td>\n      <td>200</td>\n      <td>{'max_depth': 20, 'min_samples_leaf': 4, 'min_...</td>\n      <td>0.956012</td>\n      <td>0.934401</td>\n      <td>0.973908</td>\n      <td>0.984925</td>\n      <td>0.974584</td>\n      <td>0.964766</td>\n      <td>0.017805</td>\n      <td>58</td>\n    </tr>\n  </tbody>\n</table>\n<p>81 rows × 17 columns</p>\n</div>"
     },
     "execution_count": 69,
     "metadata": {},
     "output_type": "execute_result"
    }
   ],
   "source": [
    "cv_resultsDF"
   ],
   "metadata": {
    "collapsed": false,
    "ExecuteTime": {
     "end_time": "2024-03-10T11:51:13.149624300Z",
     "start_time": "2024-03-10T11:51:13.070864400Z"
    }
   },
   "id": "81371a7fad0b7a30",
   "execution_count": 69
  },
  {
   "cell_type": "code",
   "outputs": [
    {
     "data": {
      "text/plain": "{'max_depth': 20,\n 'min_samples_leaf': 1,\n 'min_samples_split': 2,\n 'n_estimators': 50}"
     },
     "execution_count": 70,
     "metadata": {},
     "output_type": "execute_result"
    }
   ],
   "source": [
    "best_params"
   ],
   "metadata": {
    "collapsed": false,
    "ExecuteTime": {
     "end_time": "2024-03-10T11:51:13.725719500Z",
     "start_time": "2024-03-10T11:51:13.678102400Z"
    }
   },
   "id": "5b7dea1f8d554f84",
   "execution_count": 70
  },
  {
   "cell_type": "code",
   "outputs": [
    {
     "data": {
      "text/plain": "RandomForestRegressor(max_depth=20, n_estimators=50)",
      "text/html": "<style>#sk-container-id-2 {color: black;}#sk-container-id-2 pre{padding: 0;}#sk-container-id-2 div.sk-toggleable {background-color: white;}#sk-container-id-2 label.sk-toggleable__label {cursor: pointer;display: block;width: 100%;margin-bottom: 0;padding: 0.3em;box-sizing: border-box;text-align: center;}#sk-container-id-2 label.sk-toggleable__label-arrow:before {content: \"▸\";float: left;margin-right: 0.25em;color: #696969;}#sk-container-id-2 label.sk-toggleable__label-arrow:hover:before {color: black;}#sk-container-id-2 div.sk-estimator:hover label.sk-toggleable__label-arrow:before {color: black;}#sk-container-id-2 div.sk-toggleable__content {max-height: 0;max-width: 0;overflow: hidden;text-align: left;background-color: #f0f8ff;}#sk-container-id-2 div.sk-toggleable__content pre {margin: 0.2em;color: black;border-radius: 0.25em;background-color: #f0f8ff;}#sk-container-id-2 input.sk-toggleable__control:checked~div.sk-toggleable__content {max-height: 200px;max-width: 100%;overflow: auto;}#sk-container-id-2 input.sk-toggleable__control:checked~label.sk-toggleable__label-arrow:before {content: \"▾\";}#sk-container-id-2 div.sk-estimator input.sk-toggleable__control:checked~label.sk-toggleable__label {background-color: #d4ebff;}#sk-container-id-2 div.sk-label input.sk-toggleable__control:checked~label.sk-toggleable__label {background-color: #d4ebff;}#sk-container-id-2 input.sk-hidden--visually {border: 0;clip: rect(1px 1px 1px 1px);clip: rect(1px, 1px, 1px, 1px);height: 1px;margin: -1px;overflow: hidden;padding: 0;position: absolute;width: 1px;}#sk-container-id-2 div.sk-estimator {font-family: monospace;background-color: #f0f8ff;border: 1px dotted black;border-radius: 0.25em;box-sizing: border-box;margin-bottom: 0.5em;}#sk-container-id-2 div.sk-estimator:hover {background-color: #d4ebff;}#sk-container-id-2 div.sk-parallel-item::after {content: \"\";width: 100%;border-bottom: 1px solid gray;flex-grow: 1;}#sk-container-id-2 div.sk-label:hover label.sk-toggleable__label {background-color: #d4ebff;}#sk-container-id-2 div.sk-serial::before {content: \"\";position: absolute;border-left: 1px solid gray;box-sizing: border-box;top: 0;bottom: 0;left: 50%;z-index: 0;}#sk-container-id-2 div.sk-serial {display: flex;flex-direction: column;align-items: center;background-color: white;padding-right: 0.2em;padding-left: 0.2em;position: relative;}#sk-container-id-2 div.sk-item {position: relative;z-index: 1;}#sk-container-id-2 div.sk-parallel {display: flex;align-items: stretch;justify-content: center;background-color: white;position: relative;}#sk-container-id-2 div.sk-item::before, #sk-container-id-2 div.sk-parallel-item::before {content: \"\";position: absolute;border-left: 1px solid gray;box-sizing: border-box;top: 0;bottom: 0;left: 50%;z-index: -1;}#sk-container-id-2 div.sk-parallel-item {display: flex;flex-direction: column;z-index: 1;position: relative;background-color: white;}#sk-container-id-2 div.sk-parallel-item:first-child::after {align-self: flex-end;width: 50%;}#sk-container-id-2 div.sk-parallel-item:last-child::after {align-self: flex-start;width: 50%;}#sk-container-id-2 div.sk-parallel-item:only-child::after {width: 0;}#sk-container-id-2 div.sk-dashed-wrapped {border: 1px dashed gray;margin: 0 0.4em 0.5em 0.4em;box-sizing: border-box;padding-bottom: 0.4em;background-color: white;}#sk-container-id-2 div.sk-label label {font-family: monospace;font-weight: bold;display: inline-block;line-height: 1.2em;}#sk-container-id-2 div.sk-label-container {text-align: center;}#sk-container-id-2 div.sk-container {/* jupyter's `normalize.less` sets `[hidden] { display: none; }` but bootstrap.min.css set `[hidden] { display: none !important; }` so we also need the `!important` here to be able to override the default hidden behavior on the sphinx rendered scikit-learn.org. See: https://github.com/scikit-learn/scikit-learn/issues/21755 */display: inline-block !important;position: relative;}#sk-container-id-2 div.sk-text-repr-fallback {display: none;}</style><div id=\"sk-container-id-2\" class=\"sk-top-container\"><div class=\"sk-text-repr-fallback\"><pre>RandomForestRegressor(max_depth=20, n_estimators=50)</pre><b>In a Jupyter environment, please rerun this cell to show the HTML representation or trust the notebook. <br />On GitHub, the HTML representation is unable to render, please try loading this page with nbviewer.org.</b></div><div class=\"sk-container\" hidden><div class=\"sk-item\"><div class=\"sk-estimator sk-toggleable\"><input class=\"sk-toggleable__control sk-hidden--visually\" id=\"sk-estimator-id-2\" type=\"checkbox\" checked><label for=\"sk-estimator-id-2\" class=\"sk-toggleable__label sk-toggleable__label-arrow\">RandomForestRegressor</label><div class=\"sk-toggleable__content\"><pre>RandomForestRegressor(max_depth=20, n_estimators=50)</pre></div></div></div></div></div>"
     },
     "execution_count": 71,
     "metadata": {},
     "output_type": "execute_result"
    }
   ],
   "source": [
    "best_model"
   ],
   "metadata": {
    "collapsed": false,
    "ExecuteTime": {
     "end_time": "2024-03-10T11:51:14.560249900Z",
     "start_time": "2024-03-10T11:51:14.514741Z"
    }
   },
   "id": "156ba45e942ed494",
   "execution_count": 71
  },
  {
   "cell_type": "code",
   "outputs": [
    {
     "data": {
      "text/plain": "0.9702663212530143"
     },
     "execution_count": 72,
     "metadata": {},
     "output_type": "execute_result"
    }
   ],
   "source": [
    "best_score"
   ],
   "metadata": {
    "collapsed": false,
    "ExecuteTime": {
     "end_time": "2024-03-10T11:51:15.331354800Z",
     "start_time": "2024-03-10T11:51:15.295266Z"
    }
   },
   "id": "96e46871d8ff38b8",
   "execution_count": 72
  },
  {
   "cell_type": "code",
   "outputs": [],
   "source": [],
   "metadata": {
    "collapsed": false,
    "ExecuteTime": {
     "end_time": "2024-03-10T11:46:08.486791500Z",
     "start_time": "2024-03-10T11:46:08.350797200Z"
    }
   },
   "id": "9364c7e4beee4e87",
   "execution_count": 67
  }
 ],
 "metadata": {
  "kernelspec": {
   "display_name": "Python 3",
   "language": "python",
   "name": "python3"
  },
  "language_info": {
   "codemirror_mode": {
    "name": "ipython",
    "version": 2
   },
   "file_extension": ".py",
   "mimetype": "text/x-python",
   "name": "python",
   "nbconvert_exporter": "python",
   "pygments_lexer": "ipython2",
   "version": "2.7.6"
  }
 },
 "nbformat": 4,
 "nbformat_minor": 5
}
